{
 "cells": [
  {
   "cell_type": "markdown",
   "metadata": {},
   "source": [
    "# 택시 랜덤 생성 "
   ]
  },
  {
   "cell_type": "code",
   "execution_count": 1,
   "metadata": {},
   "outputs": [],
   "source": [
    "import osmnx as ox\n",
    "from numpy import random \n",
    "from shapely.geometry import Point\n",
    "\n",
    "import pandas as pd\n",
    "import warnings \n",
    "\n",
    "warnings.filterwarnings(\"ignore\")"
   ]
  },
  {
   "cell_type": "code",
   "execution_count": 2,
   "metadata": {},
   "outputs": [],
   "source": [
    "#택시 위치 좌표 랜덤 생성 (base 데이터 로드 시간이 오래 걸림... 다른건 오래 안걸리는데)\n",
    "def Generate_taxi_random_location(place, CNT):   #place : 관심지역,  cnt: 차량 수\n",
    "    #관심 지역 base 데이터 추출\n",
    "    G = ox.graph_from_place(place, network_type=\"drive_service\", simplify=True)\n",
    "    _, edges = ox.graph_to_gdfs(G)\n",
    "\n",
    "    #Meter -> Euclid : 단위 변환\n",
    "    def euclid_distance_cal(meter):\n",
    "        ###유클리드 거리와 실제 거리를 기반으로 1미터당 유클리드 거리 추출\n",
    "        #점 쌍 사이의 유클리드 거리를 계산\n",
    "        dis_1 = ox.distance.euclidean_dist_vec(36.367658 , 127.447499, 36.443928, 127.419678)\n",
    "        #직선거리 계산\n",
    "        dis_2 = ox.distance.great_circle_vec(36.367658 , 127.447499, 36.443928, 127.419678)\n",
    "        return dis_1/dis_2 * meter\n",
    "\n",
    "\n",
    "    #택시 위치 좌표 랜덤 생성\n",
    "    taxi_locations = []\n",
    "    for i in random.choice(range(len(edges)), size = CNT, replace = False):\n",
    "        #교차로 중심에 생성되지 않게 고정 미터로 생성이 아닌 해당 링크 길이로 유동적인 미터 생성\n",
    "        random_num = random.choice([0.1,0.2,0.3,0.4,0.5])\n",
    "        random_meter = edges.iloc[i][\"length\"] * random_num\n",
    "        #좌표 생성\n",
    "        new_node = list(ox.utils_geo.interpolate_points(edges.iloc[i][\"geometry\"], euclid_distance_cal(random_meter)))\n",
    "        #좌표의 처음과 끝은 노드이기 때문에 제거하고 선택\n",
    "        del new_node[0], new_node[-1]\n",
    "        #랜덤으로 선택한 하나의 링크에서 하나의 택시 좌표 선택 \n",
    "        idx = random.choice(len(new_node), size = 1)\n",
    "        taxi_location = new_node[idx[0]]\n",
    "        taxi_locations.append(taxi_location)\n",
    "        \n",
    "    taxi_locations = list(map(lambda data: Point(data),taxi_locations))\n",
    "    \n",
    "    #택시 고유 ID 부여\n",
    "    taxi_locations_df = pd.DataFrame(range(CNT), columns=[\"Taxi_ID\"])\n",
    "    #탑승 여부 전부 미탑승인 1으로 설정\n",
    "    taxi_locations_df[\"boarding_status\"] = 1\n",
    "    #위치 좌표 \n",
    "    taxi_locations_df[\"geometry\"] = taxi_locations\n",
    "    return taxi_locations_df"
   ]
  },
  {
   "cell_type": "code",
   "execution_count": 3,
   "metadata": {},
   "outputs": [],
   "source": [
    "place = \"서울 대한민국\"\n",
    "\n",
    "taxi_locations = Generate_taxi_random_location(place, 548)"
   ]
  },
  {
   "cell_type": "code",
   "execution_count": 6,
   "metadata": {},
   "outputs": [],
   "source": [
    "taxi_locations.to_pickle(\"taxi_locations.pkl\")"
   ]
  }
 ],
 "metadata": {
  "interpreter": {
   "hash": "916dbcbb3f70747c44a77c7bcd40155683ae19c65e1c03b4aa3499c5328201f1"
  },
  "kernelspec": {
   "display_name": "Python 3.8.10 64-bit",
   "language": "python",
   "name": "python3"
  },
  "language_info": {
   "codemirror_mode": {
    "name": "ipython",
    "version": 3
   },
   "file_extension": ".py",
   "mimetype": "text/x-python",
   "name": "python",
   "nbconvert_exporter": "python",
   "pygments_lexer": "ipython3",
   "version": "3.8.10"
  },
  "orig_nbformat": 4
 },
 "nbformat": 4,
 "nbformat_minor": 2
}

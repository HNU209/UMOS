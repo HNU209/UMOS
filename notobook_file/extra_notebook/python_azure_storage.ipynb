{
 "cells": [
  {
   "cell_type": "markdown",
   "metadata": {},
   "source": [
    "# Storage"
   ]
  },
  {
   "cell_type": "markdown",
   "metadata": {},
   "source": [
    "- Storage blob : 오디오, 비디오, 이미지 등과 같은 비정형 데이터를 저장해야 하는 경우 (이진 데이터 특화)\n",
    "    - container : 폴더 정도로 생각하면 됨 \n",
    "    - blob : 폴더 속 파일 정도로 생각하면 됨 \n",
    "    - BlobServiceClient : 모든 접근을 가질 수 있기 때문에 이것으로 사용\n",
    "- Storage que : 메시지 저장소\n",
    "- Storage table : 구조화된 데이터의 스키마 없는 스토리지를 위한 NoSQL 스토리지 \n",
    "- Storage disk : Azure VM용 블록 수준 스토리지 볼륨\n",
    "- Storage file : 파일 자체를 공유하는 듯?? (NAS처럼)"
   ]
  },
  {
   "cell_type": "markdown",
   "metadata": {},
   "source": [
    "- storage db 연결"
   ]
  },
  {
   "cell_type": "code",
   "execution_count": 46,
   "metadata": {},
   "outputs": [],
   "source": [
    "from azure.storage.blob import BlobServiceClient, BlobClient\n",
    "\n",
    "### storage connect str (고유키 값)\n",
    "connect_str = 'DefaultEndpointsProtocol=https;AccountName=hnu;AccountKey=hGGsXvXa+lwezkaGaKj8EYYSLsYA7sp3oPI1u7Oct0si3oi9QLawtpG1Fihsc603PT5+i0UZZEGhyc/SgUc2cA==;EndpointSuffix=core.windows.net'\n",
    "key = 'hGGsXvXa+lwezkaGaKj8EYYSLsYA7sp3oPI1u7Oct0si3oi9QLawtpG1Fihsc603PT5+i0UZZEGhyc/SgUc2cA=='\n",
    "\n",
    "### storage connect\n",
    "client = BlobServiceClient.from_connection_string(connect_str)"
   ]
  },
  {
   "cell_type": "markdown",
   "metadata": {},
   "source": [
    "### 01. Container"
   ]
  },
  {
   "cell_type": "markdown",
   "metadata": {},
   "source": [
    "- container 출력"
   ]
  },
  {
   "cell_type": "code",
   "execution_count": 47,
   "metadata": {},
   "outputs": [
    {
     "data": {
      "text/plain": [
       "['data', 'ex1', 'rawdata']"
      ]
     },
     "execution_count": 47,
     "metadata": {},
     "output_type": "execute_result"
    }
   ],
   "source": [
    "[i.name for i in client.list_containers()]"
   ]
  },
  {
   "cell_type": "markdown",
   "metadata": {},
   "source": [
    "- container 생성 \n",
    "    - *container가 있으면 오류를 냄으로 try except 문을 이용하는게 좋을 듯*\n",
    "    - *_같은 특수 문자 안됨..*"
   ]
  },
  {
   "cell_type": "code",
   "execution_count": 39,
   "metadata": {},
   "outputs": [],
   "source": [
    "try:\n",
    "    client.create_container(\"test\")\n",
    "except:\n",
    "    pass"
   ]
  },
  {
   "cell_type": "markdown",
   "metadata": {},
   "source": [
    "- container 삭제\n",
    "    - *container 명을 명시 해줘야 좋을듯 안그러면 접근 중인 container 삭제하기 때문에 헷갈릴 수 있을 듯*"
   ]
  },
  {
   "cell_type": "code",
   "execution_count": 37,
   "metadata": {},
   "outputs": [],
   "source": [
    "client.delete_container(\"test\")"
   ]
  },
  {
   "cell_type": "markdown",
   "metadata": {},
   "source": [
    "- 원하는 container 접근"
   ]
  },
  {
   "cell_type": "code",
   "execution_count": 48,
   "metadata": {},
   "outputs": [],
   "source": [
    "data_container = client.get_container_client(\"data\")"
   ]
  },
  {
   "cell_type": "markdown",
   "metadata": {},
   "source": [
    "- container blob 나열 \n",
    "    - *해당 함수는 데이터 자체를 품고 있기는 않음, blob(file) 이름 정도만 얻어가면 될듯*\n",
    "    - *container list 얻는것 처럼 iterator이기 때문에 순회하면 사라짐*"
   ]
  },
  {
   "cell_type": "code",
   "execution_count": 49,
   "metadata": {},
   "outputs": [
    {
     "data": {
      "text/plain": [
       "['20220216.csv', 'ex.json', 'trips.json']"
      ]
     },
     "execution_count": 49,
     "metadata": {},
     "output_type": "execute_result"
    }
   ],
   "source": [
    "[i.name for i in data_container.list_blobs()]"
   ]
  },
  {
   "cell_type": "markdown",
   "metadata": {},
   "source": [
    "### 02. Blob"
   ]
  },
  {
   "cell_type": "markdown",
   "metadata": {},
   "source": [
    "- 원하는 blob 연결"
   ]
  },
  {
   "cell_type": "code",
   "execution_count": 7,
   "metadata": {},
   "outputs": [],
   "source": [
    "trips_blob = data_container.get_blob_client('20220216.csv')"
   ]
  },
  {
   "cell_type": "markdown",
   "metadata": {},
   "source": [
    "- csv 파일 읽기\n",
    "    - *반환된 데이터 모두 문자형 주의*"
   ]
  },
  {
   "cell_type": "code",
   "execution_count": 8,
   "metadata": {},
   "outputs": [],
   "source": [
    "def read_blob_csv(blob):\n",
    "    import pandas as pd\n",
    "    \n",
    "    blob_data = blob.download_blob()\n",
    "    try:    # 기본적으로 utf-8로 인코딩 접근 \n",
    "        data = blob_data.content_as_text()\n",
    "        data = data.split(\"\\n\")\n",
    "    except: # encoding cp949로 접근\n",
    "        data = blob_data.content_as_text(encoding=\"cp949\")\n",
    "        data = data.split(\"\\n\")\n",
    "    data = list(map(lambda data: data.split(\",\") ,data))\n",
    "    col = data[0]\n",
    "    content = data[1:]\n",
    "    data = pd.DataFrame(content, columns=col)\n",
    "    #split 때문에 생겨난 마지막 nan 값 제거\n",
    "    data = data.dropna(axis=0)\n",
    "    return data"
   ]
  },
  {
   "cell_type": "code",
   "execution_count": 9,
   "metadata": {},
   "outputs": [
    {
     "data": {
      "text/html": [
       "<div>\n",
       "<style scoped>\n",
       "    .dataframe tbody tr th:only-of-type {\n",
       "        vertical-align: middle;\n",
       "    }\n",
       "\n",
       "    .dataframe tbody tr th {\n",
       "        vertical-align: top;\n",
       "    }\n",
       "\n",
       "    .dataframe thead th {\n",
       "        text-align: right;\n",
       "    }\n",
       "</style>\n",
       "<table border=\"1\" class=\"dataframe\">\n",
       "  <thead>\n",
       "    <tr style=\"text-align: right;\">\n",
       "      <th></th>\n",
       "      <th>no</th>\n",
       "      <th>cartype</th>\n",
       "      <th>startpos1</th>\n",
       "      <th>startpos2</th>\n",
       "      <th>endpos1</th>\n",
       "      <th>endpos2</th>\n",
       "      <th>receipttime_date</th>\n",
       "      <th>receipttime_time</th>\n",
       "      <th>settime_date</th>\n",
       "      <th>settime_time</th>\n",
       "      <th>ridetime_date</th>\n",
       "      <th>ridetime_time</th>\n",
       "    </tr>\n",
       "  </thead>\n",
       "  <tbody>\n",
       "    <tr>\n",
       "      <th>0</th>\n",
       "      <td>2560</td>\n",
       "      <td>중형승용</td>\n",
       "      <td>송파구</td>\n",
       "      <td>잠실7동</td>\n",
       "      <td>중구</td>\n",
       "      <td>필동</td>\n",
       "      <td>2022-02-16</td>\n",
       "      <td>06:57:00</td>\n",
       "      <td>2022-02-16</td>\n",
       "      <td>07:12:03</td>\n",
       "      <td>2022-02-16</td>\n",
       "      <td>07:26:30</td>\n",
       "    </tr>\n",
       "    <tr>\n",
       "      <th>1</th>\n",
       "      <td>1375</td>\n",
       "      <td>중형승합</td>\n",
       "      <td>강서구</td>\n",
       "      <td>화곡제4동</td>\n",
       "      <td>성북구</td>\n",
       "      <td>월곡제2동</td>\n",
       "      <td>2022-02-16</td>\n",
       "      <td>07:00:00</td>\n",
       "      <td>2022-02-16</td>\n",
       "      <td>07:09:31</td>\n",
       "      <td>2022-02-16</td>\n",
       "      <td>07:26:28</td>\n",
       "    </tr>\n",
       "    <tr>\n",
       "      <th>2</th>\n",
       "      <td>6400</td>\n",
       "      <td>중형승용</td>\n",
       "      <td>마포구</td>\n",
       "      <td>연남동</td>\n",
       "      <td>영등포구</td>\n",
       "      <td>여의동</td>\n",
       "      <td>2022-02-16</td>\n",
       "      <td>07:00:00</td>\n",
       "      <td>2022-02-16</td>\n",
       "      <td>06:55:21</td>\n",
       "      <td>2022-02-16</td>\n",
       "      <td>07:19:15</td>\n",
       "    </tr>\n",
       "    <tr>\n",
       "      <th>3</th>\n",
       "      <td>8019</td>\n",
       "      <td>중형 승합</td>\n",
       "      <td>노원구</td>\n",
       "      <td>상계8동</td>\n",
       "      <td>강북구</td>\n",
       "      <td>인수동</td>\n",
       "      <td>2022-02-16</td>\n",
       "      <td>07:00:00</td>\n",
       "      <td>2022-02-16</td>\n",
       "      <td>07:05:38</td>\n",
       "      <td>2022-02-16</td>\n",
       "      <td>07:23:20</td>\n",
       "    </tr>\n",
       "    <tr>\n",
       "      <th>4</th>\n",
       "      <td>2560</td>\n",
       "      <td>중형승용</td>\n",
       "      <td>송파구</td>\n",
       "      <td>거여2동</td>\n",
       "      <td>강남구</td>\n",
       "      <td>역삼2동</td>\n",
       "      <td>2022-02-16</td>\n",
       "      <td>07:00:00</td>\n",
       "      <td>2022-02-16</td>\n",
       "      <td>06:37:06</td>\n",
       "      <td>2022-02-16</td>\n",
       "      <td>06:47:12</td>\n",
       "    </tr>\n",
       "  </tbody>\n",
       "</table>\n",
       "</div>"
      ],
      "text/plain": [
       "     no cartype startpos1 startpos2 endpos1 endpos2 receipttime_date  \\\n",
       "0  2560    중형승용       송파구      잠실7동      중구      필동       2022-02-16   \n",
       "1  1375    중형승합       강서구     화곡제4동     성북구   월곡제2동       2022-02-16   \n",
       "2  6400    중형승용       마포구       연남동    영등포구     여의동       2022-02-16   \n",
       "3  8019   중형 승합       노원구      상계8동     강북구     인수동       2022-02-16   \n",
       "4  2560    중형승용       송파구      거여2동     강남구    역삼2동       2022-02-16   \n",
       "\n",
       "  receipttime_time settime_date settime_time ridetime_date ridetime_time  \n",
       "0         06:57:00   2022-02-16     07:12:03    2022-02-16      07:26:30  \n",
       "1         07:00:00   2022-02-16     07:09:31    2022-02-16      07:26:28  \n",
       "2         07:00:00   2022-02-16     06:55:21    2022-02-16      07:19:15  \n",
       "3         07:00:00   2022-02-16     07:05:38    2022-02-16      07:23:20  \n",
       "4         07:00:00   2022-02-16     06:37:06    2022-02-16      06:47:12  "
      ]
     },
     "execution_count": 9,
     "metadata": {},
     "output_type": "execute_result"
    }
   ],
   "source": [
    "data = read_blob_csv(trips_blob)\n",
    "data.head()"
   ]
  },
  {
   "cell_type": "markdown",
   "metadata": {},
   "source": [
    "- json 파일 읽기 "
   ]
  },
  {
   "cell_type": "code",
   "execution_count": 50,
   "metadata": {},
   "outputs": [],
   "source": [
    "trips_blob = data_container.get_blob_client('trips.json')"
   ]
  },
  {
   "cell_type": "code",
   "execution_count": 61,
   "metadata": {},
   "outputs": [],
   "source": [
    "def read_blob_json(blob):\n",
    "    import json \n",
    "    blob_data = blob.download_blob()\n",
    "    data = json.loads(blob_data.content_as_bytes())\n",
    "    return data"
   ]
  },
  {
   "cell_type": "code",
   "execution_count": null,
   "metadata": {},
   "outputs": [],
   "source": [
    "data = read_blob_json(trips_blob)\n",
    "data"
   ]
  },
  {
   "cell_type": "markdown",
   "metadata": {},
   "source": [
    "- blob 생성\n",
    "    - *local에 저장하지 않고 바로 저장 알아보기..*\n",
    "    - *json*\n",
    "    - *csv*"
   ]
  },
  {
   "cell_type": "code",
   "execution_count": 41,
   "metadata": {},
   "outputs": [
    {
     "data": {
      "text/plain": [
       "{'etag': '\"0x8DA322AE33E3B9D\"',\n",
       " 'last_modified': datetime.datetime(2022, 5, 10, 2, 15, tzinfo=datetime.timezone.utc),\n",
       " 'content_md5': bytearray(b'\\xce\\x11NE\\x01\\xd2\\xf4\\xe2\\xdc\\xea>\\x17\\xb5F\\xf39'),\n",
       " 'client_request_id': 'fe413eee-d006-11ec-84a6-00155d76df93',\n",
       " 'request_id': '77b56737-601e-0086-0813-643576000000',\n",
       " 'version': '2021-04-10',\n",
       " 'version_id': None,\n",
       " 'date': datetime.datetime(2022, 5, 10, 2, 15, tzinfo=datetime.timezone.utc),\n",
       " 'request_server_encrypted': True,\n",
       " 'encryption_key_sha256': None,\n",
       " 'encryption_scope': None}"
      ]
     },
     "execution_count": 41,
     "metadata": {},
     "output_type": "execute_result"
    }
   ],
   "source": [
    "import json \n",
    "\n",
    "blob = BlobClient.from_connection_string(conn_str=connect_str, container_name=\"data\", blob_name=\"test.json\")\n",
    "blob.upload_blob(json.dumps(data))"
   ]
  },
  {
   "cell_type": "markdown",
   "metadata": {},
   "source": [
    "- blob 삭제\n",
    "    - *원하는 blob 접근 뒤 delete_blob() 실행*"
   ]
  },
  {
   "cell_type": "code",
   "execution_count": 13,
   "metadata": {},
   "outputs": [],
   "source": [
    "test_blob = data_container.get_blob_client('test.json')"
   ]
  },
  {
   "cell_type": "code",
   "execution_count": 14,
   "metadata": {},
   "outputs": [],
   "source": [
    "test_blob.delete_blob()"
   ]
  }
 ],
 "metadata": {
  "interpreter": {
   "hash": "916dbcbb3f70747c44a77c7bcd40155683ae19c65e1c03b4aa3499c5328201f1"
  },
  "kernelspec": {
   "display_name": "Python 3.8.10 64-bit",
   "language": "python",
   "name": "python3"
  },
  "language_info": {
   "codemirror_mode": {
    "name": "ipython",
    "version": 3
   },
   "file_extension": ".py",
   "mimetype": "text/x-python",
   "name": "python",
   "nbconvert_exporter": "python",
   "pygments_lexer": "ipython3",
   "version": "3.8.10"
  },
  "orig_nbformat": 4
 },
 "nbformat": 4,
 "nbformat_minor": 2
}

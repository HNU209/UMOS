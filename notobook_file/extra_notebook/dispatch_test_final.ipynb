{
 "cells": [
  {
   "cell_type": "markdown",
   "metadata": {},
   "source": [
    "# 배치\n",
    "\n",
    "https://developers.google.com/optimization/assignment/assignment_example 와 재연학생이 짠 코드를 참고하여 만들었습니다.  \n"
   ]
  },
  {
   "cell_type": "markdown",
   "metadata": {},
   "source": [
    "### OSRM 호출 결과 설명 \n",
    "\n",
    "- code : Ok (요청이 예상대로 처리)\n",
    "- routes\n",
    "    - geometry : route shaply 정보\n",
    "    - legs : route inf\n",
    "        - step : 사용된 두 주요 도로의 이름, 경로가 너무 짧은 경우 비어 있을 수 있음\n",
    "        - distance : 총 거리 (단위 - meter)\n",
    "        - duration : 총 시간 (단위- 초)\n",
    "        - summary : 경로 요약\n",
    "        - weight : 총 시간 (단위)\n",
    "    - distance : 총 거리 (단위 - meter)\n",
    "    - duration : 총 시간 (단위)\n",
    "    - weight_name : routability\n",
    "    - weight : 총 시간 (단위)\n",
    "- waypoints : ????\n",
    "    - hint : 고유 내부 식별자\n",
    "    - distance : \n",
    "    - name : 도로 이름 \n",
    "    - hint : 고유 내부 식별자\n",
    "    - distance : 0 \n",
    "    - name : NULL\n",
    "    - location : POINT"
   ]
  },
  {
   "cell_type": "markdown",
   "metadata": {},
   "source": [
    "### 1. 패키지 불러오기"
   ]
  },
  {
   "cell_type": "code",
   "execution_count": 1,
   "metadata": {},
   "outputs": [],
   "source": [
    "import pandas as pd\n",
    "import numpy as np\n",
    "import osmnx as ox\n",
    "import itertools\n",
    "import warnings \n",
    "import polyline\n",
    "import requests\n",
    "import json\n",
    "import math\n",
    "from shapely.geometry import Point\n",
    "from requests.adapters import HTTPAdapter\n",
    "from requests.packages.urllib3.util.retry import Retry\n",
    "from ortools.linear_solver import pywraplp\n",
    "from IPython.display import clear_output\n",
    "import matplotlib.pyplot as plt\n",
    "from itertools import repeat\n",
    "from tqdm import tqdm\n",
    "\n",
    "warnings.filterwarnings(\"ignore\")"
   ]
  },
  {
   "cell_type": "code",
   "execution_count": 2,
   "metadata": {},
   "outputs": [],
   "source": [
    "taxi_locations = pd.read_pickle('data/taxi_locations.pkl')\n",
    "passenger_locations = pd.read_pickle('data/passenger_locations.pkl')"
   ]
  },
  {
   "cell_type": "markdown",
   "metadata": {},
   "source": [
    "---\n",
    "### 2. 전처리"
   ]
  },
  {
   "cell_type": "markdown",
   "metadata": {},
   "source": [
    "> 차량 타입 = 대형승용, 중형승용(개인택시) : 0(비휠체어), 중형승합 : 1(휠체어)\n",
    "\n",
    "> 고객 타입 = 0(비휠체어 20%), 1(휄체어80%) \n",
    "\n",
    "-  승객 생성할 때 시간 값을 분단위로 바꾸어 줌.  \n",
    "- 시간 *60 + 분으로 계산했으며 따라서 1일은 0분 ~ 1440분까지의 정수값으로 표현됨  "
   ]
  },
  {
   "cell_type": "code",
   "execution_count": 3,
   "metadata": {},
   "outputs": [],
   "source": [
    "#차량 분류 변경 -> 휠체어 탑승 불 가능 : 0, 휠체어 탑습 가능 : 1 \n",
    "def cartype_transform(ps_loc_data):\n",
    "    cartype_dict = {\"대형승용\": 0, \"중형승용\": 0, \"증형승용\": 0, \"중형승합\": 1}\n",
    "\n",
    "    ps_loc_data[\"cartype\"] = list(map(lambda data: data.replace(\" \", \"\"), ps_loc_data.cartype))\n",
    "    ps_loc_data[\"cartype\"] = [cartype_dict[i] for i in ps_loc_data.cartype]\n",
    "    return ps_loc_data\n",
    "\n",
    "#차량 ID 변경 0~547\n",
    "def change_taxi_id(ps_loc_data):\n",
    "    change_ID = {i:idx for idx,i in enumerate(set(ps_loc_data.no))}\n",
    "\n",
    "    ps_loc_data[\"no\"] = [change_ID[i] for i in ps_loc_data[\"no\"]]\n",
    "    return ps_loc_data\n",
    "\n",
    "#고객 타입 부여 (0 : 비휠체어, 1 : 휠체어)\n",
    "def add_passenger_type(ps_loc_data):\n",
    "    np.random.seed(1205)\n",
    "    passenger_type_data = np.random.choice(2 ,size = len(passenger_locations), p=[0.2, 0.8])\n",
    "    ps_loc_data[\"passenger_type\"] = passenger_type_data\n",
    "    return ps_loc_data\n",
    "\n",
    "passenger_locations = cartype_transform(passenger_locations)\n",
    "passenger_locations = change_taxi_id(passenger_locations)\n",
    "passenger_locations = add_passenger_type(passenger_locations)"
   ]
  },
  {
   "cell_type": "code",
   "execution_count": 4,
   "metadata": {},
   "outputs": [],
   "source": [
    "#시간 변환 함수 (0~1440분)\n",
    "def time_transform(ps_loc_data):\n",
    "    # 배차는 매 분마다 수행이 되도록\n",
    "    # 매초단위로 수행할 경우 최적화를 돌리는게 큰 의미가 없음\n",
    "    passenger_df = ps_loc_data[['no', \n",
    "                                'cartype',\n",
    "                                'passenger_type',\n",
    "                                'settime_date',\n",
    "                                'settime_time',\n",
    "                                'receipttime_date',\n",
    "                                'receipttime_time',\n",
    "                                'start_point',\n",
    "                                'end_point']].copy()\n",
    "    \n",
    "    #택시 잡힌 시간\n",
    "    settime_date = pd.to_datetime(passenger_df[\"settime_date\"], format = '%Y-%m-%d')\n",
    "    settime_date = list(map(lambda data: data.day, settime_date))\n",
    "    settime_time = pd.to_datetime(passenger_df['settime_time'], format='%H:%M:%S')\n",
    "    \n",
    "    #콜 접수 시간\n",
    "    receipttime_date = pd.to_datetime(passenger_df['receipttime_date'], format='%Y-%m-%d')\n",
    "    receipttime_date = list(map(lambda data: data.day, receipttime_date))\n",
    "    receipttime_time = pd.to_datetime(passenger_df['receipttime_time'], format='%H:%M:%S')\n",
    "    \n",
    "    #시분초 -> 0~1440분으로 변환\n",
    "    set_time = settime_time.dt.minute + settime_time.dt.hour*60\n",
    "    set_time = set_time.tolist()\n",
    "    \n",
    "    receipt_time = receipttime_time.dt.minute + receipttime_time.dt.hour*60\n",
    "    receipt_time = receipt_time.tolist()\n",
    "    \n",
    "    passenger_df['time'] = [t+1440 if d == 17 else t for t,d in zip(receipt_time, receipttime_date)]\n",
    "    passenger_df['set_time'] = [t+1440 if d == 17 else t for t,d in zip(set_time, settime_date)]\n",
    "    \n",
    "    passenger_df.drop(['settime_date','settime_time','receipttime_date','receipttime_time'], axis=1, inplace=True)\n",
    "    passenger_df.reset_index(drop=True, inplace=True)\n",
    "    return passenger_df\n",
    "\n",
    "passenger_locations = time_transform(passenger_locations)"
   ]
  },
  {
   "cell_type": "code",
   "execution_count": 5,
   "metadata": {},
   "outputs": [],
   "source": [
    "#택시 운행 정보 데이터\n",
    "def generate_taxi_inf(ps_loc_data):\n",
    "    taxi_start_end_dict = dict()\n",
    "    for i in ps_loc_data.groupby(\"no\"):\n",
    "        taxi_start_end_dict[i[0]] = {\"cartype\":i[1][\"cartype\"].tolist()[0]}\n",
    "        taxi_start_end_dict[i[0]][\"start\"] = min(i[1][\"set_time\"])\n",
    "        taxi_start_end_dict[i[0]][\"end\"] = max(i[1][\"set_time\"])\n",
    "        taxi_start_end_dict[i[0]][\"cnt\"] = len(i[1])\n",
    "\n",
    "    taxi_inf = pd.DataFrame(taxi_start_end_dict.values())\n",
    "    taxi_inf[\"no\"] = taxi_start_end_dict.keys()\n",
    "    taxi_inf = taxi_inf[[\"no\", \"cartype\", \"start\", \"end\", \"cnt\"]]\n",
    "    taxi_inf[\"duration\"] = taxi_inf[\"end\"] - taxi_inf[\"start\"]\n",
    "    return taxi_inf\n",
    "\n",
    "taxi_inf = generate_taxi_inf(passenger_locations)"
   ]
  },
  {
   "cell_type": "markdown",
   "metadata": {},
   "source": [
    "---"
   ]
  },
  {
   "cell_type": "markdown",
   "metadata": {},
   "source": [
    "- 시간대 별 첫 운행 시작 분포, 마지막 운행 시작 분포"
   ]
  },
  {
   "cell_type": "code",
   "execution_count": 11,
   "metadata": {},
   "outputs": [
    {
     "data": {
      "image/png": "[encoded data removed]",
      "text/plain": [
       "<Figure size 1584x864 with 2 Axes>"
      ]
     },
     "metadata": {
      "needs_background": "light"
     },
     "output_type": "display_data"
    }
   ],
   "source": [
    "#운행 시작시간\n",
    "import matplotlib.pyplot as plt\n",
    "\n",
    "bins = [i*60 for i in range(6,31)]\n",
    "labels = [f\"{i}\" for i in range(6,30)]\n",
    "labels_name = [f\"{i}\" for i in range(6,25)] + [f\"{i}\" for i in range(1,6)]\n",
    "\n",
    "start = pd.DataFrame(pd.cut(taxi_inf[\"start\"], bins, labels = labels).value_counts(sort=False))\n",
    "end = pd.DataFrame(pd.cut(taxi_inf[\"end\"], bins, labels = labels).value_counts(sort=False))\n",
    "\n",
    "f, axes = plt.subplots(1, 2)\n",
    "f.set_size_inches((22, 12))\n",
    "plt.rc('font', size=20)        # 기본 폰트 크기\n",
    "plt.rc('axes', labelsize=20)   # x,y축 label 폰트 크기\n",
    "\n",
    "axes[0].barh(start.index ,start[\"start\"])\n",
    "axes[0].set_yticklabels(labels_name, fontsize=20)\n",
    "axes[0].set_xlim(0, 200)\n",
    "axes[0].set_xlabel(\"cnt\")\n",
    "axes[0].set_ylabel(\"time\")\n",
    "axes[0].set_title(\"Distribution of vehicle start-up\")\n",
    "\n",
    "axes[1].barh(end.index ,end[\"end\"], color = \"red\")\n",
    "axes[1].set_yticklabels(labels_name, fontsize=20)\n",
    "axes[1].set_xlim(0, 200)\n",
    "axes[1].set_xlabel(\"cnt\")\n",
    "axes[1].set_ylabel(\"time\")\n",
    "axes[1].set_title(\"Distribution of vehicle last run\")\n",
    "plt.show()"
   ]
  },
  {
   "cell_type": "markdown",
   "metadata": {},
   "source": [
    "- 시간대 별 배차 성공 분포"
   ]
  },
  {
   "cell_type": "code",
   "execution_count": 7,
   "metadata": {},
   "outputs": [
    {
     "data": {
      "image/png": "[encoded data removed]",
      "text/plain": [
       "<Figure size 864x576 with 1 Axes>"
      ]
     },
     "metadata": {
      "needs_background": "light"
     },
     "output_type": "display_data"
    }
   ],
   "source": [
    "bins = [i*60 for i in range(6,31)]\n",
    "labels = [f\"{(i)*60}~{(i+1)*60}({i})\" for i in range(6,30)]\n",
    "\n",
    "call_cnt_by_time = pd.DataFrame(pd.cut(passenger_locations[\"set_time\"], bins, labels = labels).value_counts(sort=False))\n",
    "\n",
    "plt.figure(figsize=(12, 8))\n",
    "plt.barh(call_cnt_by_time.index ,call_cnt_by_time[\"set_time\"])\n",
    "plt.xlim(0, 500)\n",
    "plt.xlabel(\"cnt\")\n",
    "plt.ylabel(\"time (Minute)\")\n",
    "plt.title(\"distribution success\")\n",
    "plt.show()"
   ]
  },
  {
   "cell_type": "markdown",
   "metadata": {},
   "source": [
    "---"
   ]
  },
  {
   "cell_type": "markdown",
   "metadata": {},
   "source": [
    "- 택시 근무시간 고려 출퇴근시간 임의 지정"
   ]
  },
  {
   "cell_type": "code",
   "execution_count": 8,
   "metadata": {},
   "outputs": [],
   "source": [
    "def operation_inf(taxi_information):\n",
    "    #A조 17시 이전 근무자 9시간 근무\n",
    "    #B조 17시 이후 근무자 12시간 근무 \n",
    "    bins = [i*60 for i in range(6,31)]\n",
    "    labels = [i for i in range(6,30)]\n",
    "\n",
    "    taxi_information[\"start_time\"] = pd.cut(taxi_information[\"start\"], bins, labels = labels)\n",
    "    \n",
    "    A = taxi_information.loc[np.array(taxi_information[\"start_time\"].tolist()) < 17]\n",
    "    B = taxi_information.loc[np.array(taxi_information[\"start_time\"].tolist()) >= 17]\n",
    "    A[\"start_time\"] = np.array(A.start_time.tolist()) * 60\n",
    "    B[\"start_time\"] = np.array(B.start_time.tolist()) * 60\n",
    "    \n",
    "    A[\"end_time\"] = np.array(A.start_time.tolist()) + (9*60)\n",
    "    B[\"end_time\"] = np.array(B.start_time.tolist()) + (12*60)\n",
    "    taxi_information = pd.concat([A,B])\n",
    "    return taxi_information\n",
    "\n",
    "taxi_inf = operation_inf(taxi_inf)"
   ]
  },
  {
   "cell_type": "code",
   "execution_count": 9,
   "metadata": {},
   "outputs": [],
   "source": [
    "taxi_schedule = taxi_inf[[\"no\", \"cartype\", \"start_time\", \"end_time\"]]\n",
    "\n",
    "taxi_locations[\"no\"] = list(taxi_schedule.no)\n",
    "taxi_locations = taxi_locations.drop([\"Taxi_ID\"], axis=1)\n",
    "\n",
    "taxi_locations = pd.merge(taxi_schedule,taxi_locations)"
   ]
  },
  {
   "cell_type": "markdown",
   "metadata": {},
   "source": [
    "---"
   ]
  },
  {
   "cell_type": "code",
   "execution_count": 10,
   "metadata": {},
   "outputs": [
    {
     "data": {
      "image/png": "[encoded data removed]",
      "text/plain": [
       "<Figure size 864x576 with 1 Axes>"
      ]
     },
     "metadata": {
      "needs_background": "light"
     },
     "output_type": "display_data"
    }
   ],
   "source": [
    "empty_taxi = pd.DataFrame()\n",
    "\n",
    "virtual_taxi_schedule = []\n",
    "for i in range(6,31):\n",
    "    #운행 시작 택시\n",
    "    start_taxi = taxi_locations.loc[taxi_locations.start_time == i*60]\n",
    "    empty_taxi = pd.concat([start_taxi, empty_taxi])\n",
    "    #운행종료 택시 제거\n",
    "    empty_taxi = empty_taxi.loc[empty_taxi.end_time != i*60]\n",
    "    virtual_taxi_schedule.append([i ,len(empty_taxi)])\n",
    "    \n",
    "virtual_taxi_schedule = pd.DataFrame(virtual_taxi_schedule)\n",
    "virtual_taxi_schedule.columns = [\"time\", \"cnt\"]\n",
    "\n",
    "plt.figure(figsize=(12, 8))\n",
    "plt.barh(np.array(virtual_taxi_schedule[\"time\"].tolist()).astype(\"str\") ,virtual_taxi_schedule[\"cnt\"], color = \"green\")\n",
    "plt.xlim(0, 600)\n",
    "plt.xlabel(\"cnt\")\n",
    "plt.ylabel(\"time (Minute)\")\n",
    "plt.title(\"Vehicle distribution by time period\")\n",
    "plt.show()"
   ]
  },
  {
   "cell_type": "markdown",
   "metadata": {},
   "source": [
    "---\n",
    "\n",
    "- 승객 route 추가"
   ]
  },
  {
   "cell_type": "code",
   "execution_count": 11,
   "metadata": {},
   "outputs": [],
   "source": [
    "# 상세한 경로와 시간을 뽑는 함수\n",
    "# 시간이 많이 걸리기 때문에 최종적으로 시각화 할 때만 사용\n",
    "def get_res(pickup_point, dropoff_point):\n",
    "    session = requests.Session()\n",
    "    retry = Retry(connect=3, backoff_factor=0.5)\n",
    "    adapter = HTTPAdapter(max_retries=retry)\n",
    "    session.mount('http://', adapter)\n",
    "    session.mount('https://', adapter)\n",
    "    steps = \"?steps=true\"\n",
    "    loc = \"{},{};{},{}\".format(pickup_point.x, pickup_point.y, dropoff_point.x, dropoff_point.y)\n",
    "    url = \"http://127.0.0.1:5000/route/v1/driving/\"\n",
    "    r = session.get(url + loc + steps) \n",
    "    if r.status_code!= 200:\n",
    "        return {}\n",
    "  \n",
    "    res = r.json()   \n",
    "    all_steps = res[\"routes\"][0][\"legs\"][0][\"steps\"]\n",
    "    all_steps = all_steps[:-1]\n",
    "    return all_steps\n",
    "\n",
    "def get_part_time(step):\n",
    "    duration_part = math.ceil((step[\"duration\"] / 60)*100)/100\n",
    "    location_part = polyline.decode(step[\"geometry\"])\n",
    "    duration_part = [math.ceil((duration_part/(len(location_part)-1)*100))/100] * (len(location_part) - 1)\n",
    "    return duration_part\n",
    "\n",
    "def get_part_route(step):\n",
    "    location_part = polyline.decode(step[\"geometry\"])\n",
    "    location_part = list(map(lambda data: [data[1],data[0]] ,location_part))\n",
    "    return location_part\n",
    "    \n",
    "def get_total_route(all_step):\n",
    "    total_route = list(map(lambda data: get_part_route(data), all_step))\n",
    "    last_location = total_route[-1][-1]\n",
    "    total_route = list(map(lambda data: data[:-1], total_route))\n",
    "    total_route = list(itertools.chain(*total_route))\n",
    "    total_route.append(last_location)\n",
    "    return total_route\n",
    "\n",
    "def get_total_time(all_step):\n",
    "    total_time = list(map(lambda data: get_part_time(data), all_step))\n",
    "    total_time = list(itertools.chain(*total_time))\n",
    "    total_time = list(itertools.accumulate(total_time)) \n",
    "    start_time = [0]\n",
    "    start_time.extend(total_time)\n",
    "    total_time = start_time\n",
    "    return total_time \n",
    "\n",
    "\n",
    "def get_route_time_dataframe(data_frame):\n",
    "    total_all_steps = list(map(lambda data: get_res(data[1][\"start_point\"], data[1][\"end_point\"]), data_frame.iterrows())) \n",
    "    total_all_route = list(map(lambda data: get_total_route(data), total_all_steps))\n",
    "    total_all_time = list(map(lambda data: get_total_time(data), total_all_steps))\n",
    "    data_frame[\"route\"] = total_all_route \n",
    "    data_frame[\"timestamp\"] = total_all_time\n",
    "    return data_frame \n",
    "\n",
    "passenger_locations = get_route_time_dataframe(passenger_locations)"
   ]
  },
  {
   "cell_type": "code",
   "execution_count": 12,
   "metadata": {},
   "outputs": [],
   "source": [
    "#승객과 택시의 정보가 혼동되지 않게 컬럼명 변경 ps_loc_0 : 승객 승차 위치, ps_loc_1 : 승객 하차 위치 \n",
    "def redefine_col_name(ps_loc_data, taxi_loc_data): \n",
    "    #cartype, passenger_type, ps_location_0, ps_location_1, call_time, ps_route, ps_timestamp\n",
    "    ps_loc_data.columns = ['no', 'cartype', 'ps_type', 'ps_loc_0', 'ps_loc_1', 'call_time', 'set_time', 'ps_route', 'ps_timestamp']\n",
    "    ps_loc_data = ps_loc_data[['ps_type', 'ps_loc_0', 'ps_loc_1', 'call_time', 'ps_route', 'ps_timestamp']]\n",
    "    #no, cartype, work_start, work_end, boarding_status, tx_location\n",
    "    taxi_loc_data.columns = ['no', 'cartype', 'work_start', 'work_end', 'board_status', 'tx_loc']\n",
    "    taxi_loc_data = taxi_loc_data[['no', 'cartype', 'work_start', 'work_end', 'board_status', 'tx_loc']]\n",
    "    return ps_loc_data, taxi_loc_data\n",
    "\n",
    "passenger_locations, taxi_locations = redefine_col_name(passenger_locations, taxi_locations)\n",
    "passenger_locations[\"wait_time\"] = 0"
   ]
  },
  {
   "cell_type": "markdown",
   "metadata": {},
   "source": [
    "전처리 결과\n",
    "- 사용 데이터 : passenger_locations, taxi_locations, taxi_schedule\n",
    "- 처리 내용 \n",
    "    - 편의를 위한 택시 ID(컬럼명:no) 0~ 547로 변경\n",
    "    - 시간 : 00:01:00 -> 1440분으로 변경 \n",
    "    - 택시 근무 시간 지정 (현재 운영 체계 고려)\n",
    "    - 미사용 컬럼 제거 및 컬럼명 혼동 방지를 위한 변경\n",
    "---"
   ]
  },
  {
   "cell_type": "markdown",
   "metadata": {},
   "source": [
    "### 3. 최적화를 통한 Dispatch 수행 알고리즘 \n",
    "- 차량 배차 \n",
    "- 고객한테 가는 route 뽑기 (차량에 전달)"
   ]
  },
  {
   "cell_type": "code",
   "execution_count": 13,
   "metadata": {},
   "outputs": [],
   "source": [
    "###costs 뽑는 과정 (각 차량과 승객의 직선 거리를 모두 구함)\n",
    "def haversine(lat1, lon1, lat2, lon2):\n",
    "    km_constant = 3959* 1.609344\n",
    "    lat1, lon1, lat2, lon2 = map(np.deg2rad, [lat1, lon1, lat2, lon2])\n",
    "    dlat = lat2 - lat1 \n",
    "    dlon = lon2 - lon1 \n",
    "    a = np.sin(dlat/2)**2 + np.cos(lat1) * np.cos(lat2) * np.sin(dlon/2)**2\n",
    "    c = 2 * np.arcsin(np.sqrt(a)) \n",
    "    km = km_constant * c\n",
    "    return km\n",
    "\n",
    "#costs \n",
    "def get_taxi_meter(ps_loc_data, taxi_loc_data):\n",
    "    return list(map(lambda data: haversine(data.y, data.x, taxi_loc_data.y, taxi_loc_data.x).tolist(), ps_loc_data))\n",
    "\n",
    "############################################################################################################\n",
    "### 배차 알고리즘\n",
    "def dispatch(passenger_location_data, taxi_locaton_data, cost_matrix):\n",
    "    #Calculate cost matrix\n",
    "    # 모든 빈택시와 모든 승객들에 대해서 각각의 통행시간을 계산\n",
    "    passenger_cnt = len(passenger_location_data)\n",
    "    taxi_cnt = len(taxi_locaton_data)\n",
    "    \n",
    "    #Declare the MIP solver\n",
    "    # Create the mip solver with the SCIP backend.\n",
    "    solver = pywraplp.Solver.CreateSolver('SCIP')\n",
    "\n",
    "    taxi_idx = sorted(list(itertools.chain(*list(repeat(list(range(taxi_cnt)), passenger_cnt)))))\n",
    "    passenger_idx = list(itertools.chain(*list(repeat(list(range(passenger_cnt)), taxi_cnt))))\n",
    "\n",
    "    #Create the variables\n",
    "    # x[i, j] is an array of 0-1 variables, which will be 1\n",
    "    # if worker i is assigned to task j.\n",
    "    x = {}\n",
    "    for t, p in zip(taxi_idx, passenger_idx):\n",
    "        x[t, p] = solver.IntVar(0, 1, '')\n",
    "        \n",
    "    #Create the constraints\n",
    "    #Each worker is assigned to at most 1 task.\n",
    "    for i in range(taxi_cnt):\n",
    "        solver.Add(solver.Sum([x[i, j] for j in range(passenger_cnt)]) <= 1)\n",
    "\n",
    "    # Each task is assigned to exactly one worker.\n",
    "    for j in range(passenger_cnt):\n",
    "        solver.Add(solver.Sum([x[i, j] for i in range(taxi_cnt)]) == 1)\n",
    "        \n",
    "    #Create the objective function\n",
    "    objective_terms = []\n",
    "    for i in range(taxi_cnt):\n",
    "        for j in range(passenger_cnt):\n",
    "            objective_terms.append(cost_matrix[i][j] * x[i, j])\n",
    "    solver.Minimize(solver.Sum(objective_terms))\n",
    "    #Invoke the solver\n",
    "    status = solver.Solve()\n",
    "    # Print solution\n",
    "    taxi_iloc = []\n",
    "    passenger_iloc = []\n",
    "    if status == pywraplp.Solver.OPTIMAL or status == pywraplp.Solver.FEASIBLE:\n",
    "        #print('Total distance = ', solver.Objective().Value(), '\\n')\n",
    "        for i in range(taxi_cnt):\n",
    "            for j in range(passenger_cnt):\n",
    "                # Test if x[i,j] is 1 (with tolerance for floating point arithmetic).\n",
    "                if x[i, j].solution_value() > 0.5:\n",
    "                    #print('taxi %d assigned to passenger %d.  duration(s) = %d' %\n",
    "                    #    (i, j, cost_matrix[i][j]))  \n",
    "                    taxi_iloc.append(i) \n",
    "                    passenger_iloc.append(j)\n",
    "    return taxi_iloc, passenger_iloc\n",
    "\n",
    "# main 배차 함수\n",
    "def main_dispatch(ps_loc_data, taxi_loc_data):\n",
    "    costs = list(map(lambda data: get_taxi_meter(ps_loc_data.ps_loc_0, data), taxi_loc_data.tx_loc))\n",
    "    taxi_iloc, passenger_iloc = dispatch(ps_loc_data, taxi_loc_data, costs)\n",
    "    return taxi_iloc, passenger_iloc"
   ]
  },
  {
   "cell_type": "markdown",
   "metadata": {},
   "source": [
    "- 1단계\n",
    "    - dispath 시 휠체어 가능 차량 (휠체어 가능 택시 매칭)\n",
    "    - 현재 차량 운행 대수가 모자르면 손님 랜덤 자르고 배차 (한 번 콜 팅기면 다음 배차 우선순위)"
   ]
  },
  {
   "cell_type": "markdown",
   "metadata": {},
   "source": [
    "---"
   ]
  },
  {
   "cell_type": "markdown",
   "metadata": {},
   "source": [
    "### 4. Dispatch 실행"
   ]
  },
  {
   "cell_type": "markdown",
   "metadata": {},
   "source": [
    "- 휠체어 가능과 휠체어 고객 매칭 고려 \n",
    "- 시간별 차량 운행 시간 고려 \n",
    "- 차량 부족으로 콜 시간에 매칭 고객 먼저 배차\n",
    "\n",
    "---\n",
    "- 현재 배차 시스템 \n",
    "    - 접수하신 순서, 기다리신 시간, 차량과의 거리로 산정된 점수에 따라 실거리 7km 이내 빈 차량이 있을 경우 순차적으로 연결\n",
    "    - 접수순서 20점 + 대기시간 40점 + 거리 30점 합산 후 차량 배차"
   ]
  },
  {
   "cell_type": "markdown",
   "metadata": {},
   "source": [
    "- endpoint 좌표\n",
    "- 차량 탑승시간 고려\n",
    "- 탑승 완료 waiting 시간 기록 "
   ]
  },
  {
   "cell_type": "code",
   "execution_count": 14,
   "metadata": {},
   "outputs": [],
   "source": [
    "# 좌표 기반 라우팅 데이터 반환 함수 만들기\n",
    "def get_route_time_locations(start_point, end_point):\n",
    "    all_steps = get_res(start_point, end_point)\n",
    "    all_route = get_total_route(all_steps)\n",
    "    all_time = get_total_time(all_steps)\n",
    "    return all_route, all_time\n",
    "\n",
    "#휠체어 탑승자는 휠체어 가능 차량만 배차\n",
    "def dispath_and_add_rt_tt(call_data, taxi_data):\n",
    "    taxi_iloc, passenger_iloc = main_dispatch(call_data, taxi_data)\n",
    "    \n",
    "    #남은 차량 또는 남은 승객\n",
    "    remain_taxi_mask = list(set(range(len(taxi_data))) - set(taxi_iloc))\n",
    "    remain_ps_mask = list(set(range(len(call_data))) - set(passenger_iloc))\n",
    "        \n",
    "    remain_taxi = taxi_data.iloc[remain_taxi_mask]\n",
    "    remain_ps = call_data.iloc[remain_ps_mask]\n",
    "    \n",
    "    #배차 성공 차량 또는 승객 \n",
    "    success_taxi = taxi_data.iloc[taxi_iloc]\n",
    "    \n",
    "    success_ps = call_data.iloc[passenger_iloc]\n",
    "    success_ps[\"no\"] = success_taxi[\"no\"].tolist()\n",
    "    \n",
    "    success = pd.merge(success_taxi, success_ps)\n",
    "    \n",
    "    #택시와 승객 route, timestamp 추가\n",
    "    success_route_time = list(map(lambda data: get_route_time_locations(data[1][\"tx_loc\"], data[1][\"ps_loc_0\"]) ,success.iterrows()))\n",
    "    success[\"to_ps_route\"] = [i[0] for i in success_route_time]\n",
    "    success[\"to_ps_timestamp\"] = [i[1] for i in success_route_time]\n",
    "    \n",
    "    #해당 시간으로 더해주기\n",
    "    success[\"ps_timestamp\"] =  list(map(lambda data: (np.array(data[1][\"ps_timestamp\"]) + np.array([data[1][\"to_ps_timestamp\"][-1] + max(success.call_time)])).tolist() , success.iterrows()))\n",
    "    success[\"to_ps_timestamp\"] =  list(map(lambda data: (np.array(data[1][\"to_ps_timestamp\"]) + np.array([max(success.call_time)])).tolist() , success.iterrows()))\n",
    "    success[\"end_time\"] = list(map(lambda data: data[1][\"ps_timestamp\"][-1] , success.iterrows()))\n",
    " \n",
    "    return success, [remain_taxi, remain_ps]"
   ]
  },
  {
   "cell_type": "code",
   "execution_count": 15,
   "metadata": {},
   "outputs": [],
   "source": [
    "def make_json_and_taxi_data(taxi_data):\n",
    "    to_ps_taxi =  taxi_data[[\"board_status\",\"to_ps_route\",\"to_ps_timestamp\"]]\n",
    "    to_ps_taxi.columns = [\"vendor\", \"path\", \"timestamps\"]\n",
    "    to_ps_taxi = list(to_ps_taxi.T.to_dict().values())\n",
    "\n",
    "    taxi_data[\"board_status\"] = 1\n",
    "    taxi = taxi_data[[\"board_status\", \"ps_route\", \"ps_timestamp\"]]\n",
    "    taxi.columns = [\"vendor\", \"path\", \"timestamps\"]\n",
    "    taxi = list(taxi.T.to_dict().values())\n",
    "    taxi_data[\"board_status\"] = 0 \n",
    "    taxi_data[\"tx_loc\"] = taxi_data[\"ps_loc_1\"]\n",
    "\n",
    "    to_ps_taxi.extend(taxi)\n",
    "    taxi_data = taxi_data[['no', 'cartype', 'work_start', 'work_end', 'board_status', \"end_time\",'tx_loc']]\n",
    "    return taxi_data, to_ps_taxi"
   ]
  },
  {
   "cell_type": "code",
   "execution_count": 16,
   "metadata": {},
   "outputs": [],
   "source": [
    "def match_taxi_ps(call_data, taxi_data):\n",
    "    #휠체어, 비휠체어 승객 데이터 분할\n",
    "    passenger_call_0 = call_data.loc[call_data[\"ps_type\"] == 0]\n",
    "    passenger_call_1 = call_data.loc[call_data[\"ps_type\"] == 1]\n",
    "\n",
    "    #휠체어, 비휠체어 차량 데이터 분할\n",
    "    taxi_locations_0 = taxi_data.loc[taxi_data[\"cartype\"] == 0]\n",
    "    taxi_locations_1 = taxi_data.loc[taxi_data[\"cartype\"] == 1]\n",
    "\n",
    "    ##################################################################################\n",
    "    ##휠체어 배차\n",
    "    success_1, remain_1 = dispath_and_add_rt_tt(passenger_call_1, taxi_locations_1)\n",
    "\n",
    "    ###휠체어 고객 배차 후 데이터 반환\n",
    "    driving_1, trip_1 = make_json_and_taxi_data(success_1)\n",
    "    ###################################################################################\n",
    "    ##비휠체어 고객 배차\n",
    "    #모든 휠체어 고객 배차 성공 시\n",
    "    if len(remain_1[1]) == 0:\n",
    "        #비휄체어 고객 배차\n",
    "        taxi_remain = pd.concat([remain_1[0], taxi_locations_0])\n",
    "        success_2, remain_2 = dispath_and_add_rt_tt(passenger_call_0, taxi_remain)\n",
    "        taxi_remain = remain_2[0]\n",
    "        \n",
    "        ###비휠체어 고객 배차 후 데이터 반환\n",
    "        driving_2, trip_2 = make_json_and_taxi_data(success_2)\n",
    "        \n",
    "        if len(remain_2[1]) > 0: \n",
    "            passenger_remain = remain_2[1]\n",
    "        else:\n",
    "            passenger_remain = pd.DataFrame()\n",
    "    #차가 없으면 이번 time pass\n",
    "    elif len(remain_1[1]) > 0: \n",
    "        taxi_remain = pd.concat([remain_1[0], taxi_locations_0])\n",
    "        success_2, remain_2 = dispath_and_add_rt_tt(passenger_call_0, taxi_remain)\n",
    "        \n",
    "        ###비휠체어 고객 배차 후 데이터 반환\n",
    "        driving_2, trip_2 = make_json_and_taxi_data(success_2)    \n",
    "        passenger_remain = pd.concat([remain_1[1],remain_2[1]])\n",
    "        taxi_remain = remain_2[0]\n",
    "        \n",
    "    trip = trip_1 + trip_2\n",
    "    driving = pd.concat([driving_1, driving_2])\n",
    "    return trip, driving, passenger_remain, taxi_remain"
   ]
  },
  {
   "cell_type": "code",
   "execution_count": 17,
   "metadata": {},
   "outputs": [
    {
     "data": {
      "image/png": "[encoded data removed]",
      "text/plain": [
       "<Figure size 864x576 with 1 Axes>"
      ]
     },
     "metadata": {
      "needs_background": "light"
     },
     "output_type": "display_data"
    }
   ],
   "source": [
    "empty_taxi = pd.DataFrame()\n",
    "driving_data = pd.DataFrame()\n",
    "ps_remain = []\n",
    "trips = []\n",
    "\n",
    "####\n",
    "a = [] #대기 고객\n",
    "b = [] #배차 가능 차량 \n",
    "c = [] #운행 중인 차량\n",
    "x = [] #시간\n",
    "\n",
    "et = []\n",
    "####\n",
    "\n",
    "for i in range(6*60, 30*60+1):\n",
    "    clear_output(True)\n",
    "    #운행종료 택시 제거\n",
    "    if (i % 60 == 0) and (i != 360):\n",
    "        empty_taxi = empty_taxi.loc[empty_taxi.work_end >= i]\n",
    "\n",
    "    if i % 60 == 0:\n",
    "        #운행 시작 택시\n",
    "        start_taxi = taxi_locations.loc[taxi_locations.work_start == i]\n",
    "        #배차 안된 택시\n",
    "        empty_taxi = pd.concat([start_taxi, empty_taxi])\n",
    "    #택시 콜한 고객\n",
    "    call_ps = passenger_locations.loc[passenger_locations.call_time == i]\n",
    "    \n",
    "    et.append([i,empty_taxi])\n",
    "    ###\n",
    "    a.extend([len(call_ps) + len(ps_remain)])\n",
    "    b.extend([len(empty_taxi)])\n",
    "    c.extend([len(driving_data)])\n",
    "    x.extend([i])\n",
    "    \n",
    "    plt.figure(figsize=(12, 8))\n",
    "    plt.rcParams['axes.grid'] = True \n",
    "    plt.plot(x,a, label = f\"passenger_num ({len(call_ps) + len(ps_remain)})\")\n",
    "    plt.plot(x,b, label = f\"available car ({len(empty_taxi)})\")\n",
    "    plt.plot(x,c, label = f\"driving car ({len(driving_data)})\")\n",
    "    plt.legend()\n",
    "    plt.show()\n",
    "    ###\n",
    "    \n",
    "    if len(call_ps) + len(ps_remain) > 0:\n",
    "        if len(ps_remain) > 0:\n",
    "            ps_remain.call_time = i #현재 시간\n",
    "            \n",
    "            trip, driving, ps_remain, tx_remain = match_taxi_ps(ps_remain,empty_taxi)\n",
    "\n",
    "            empty_taxi = tx_remain\n",
    "            driving_data = pd.concat([driving_data, driving])\n",
    "            trips.extend(trip)\n",
    "            \n",
    "            if len(ps_remain) > 0:\n",
    "                ps_remain = pd.concat([ps_remain, call_ps])\n",
    "                \n",
    "        if len(ps_remain) == 0:\n",
    "            trip, driving, ps_remain, tx_remain = match_taxi_ps(call_ps, empty_taxi)\n",
    "            empty_taxi = tx_remain\n",
    "            driving_data = pd.concat([driving_data, driving])\n",
    "            trips.extend(trip)\n",
    "    \n",
    "    if len(driving_data) > 0:\n",
    "        #################\n",
    "        #운행 종료 택시\n",
    "        drive_end = driving_data.loc[driving_data[\"end_time\"] <= i]\n",
    "        drive_end = drive_end[[\"no\",\"cartype\",\"work_start\",\"work_end\",\"board_status\",\"tx_loc\"]]\n",
    "        #운행 중인 택시\n",
    "        driving_data = driving_data.loc[driving_data[\"end_time\"] > i]\n",
    "        #운행 종료 후 택시 빈 택시에 추가\n",
    "        empty_taxi = pd.concat([empty_taxi ,drive_end])"
   ]
  },
  {
   "cell_type": "code",
   "execution_count": 18,
   "metadata": {},
   "outputs": [],
   "source": [
    "def stop_taxi_inf(taxi_min_inf): \n",
    "    sub_stop_taxi_inf = pd.DataFrame([taxi_min_inf[1][\"no\"].values, taxi_min_inf[1][\"tx_loc\"].values, np.array([taxi_min_inf[0]] * len(taxi_min_inf[1]))]).T\n",
    "    sub_stop_taxi_inf.columns = [\"no\", \"tx_loc\", \"time\"]\n",
    "    return sub_stop_taxi_inf\n",
    "\n",
    "def generate_taxi_pull_over_inf(pull_over_inf):\n",
    "    taxi_pull_over = []\n",
    "    while len(pull_over_inf) != 0:\n",
    "        sub_data= pull_over_inf.loc[pull_over_inf.tx_loc == pull_over_inf.tx_loc.iloc[0]]\n",
    "        pull_over_inf = pull_over_inf.loc[pull_over_inf.tx_loc != pull_over_inf.tx_loc.iloc[0]]\n",
    "        if len(sub_data) == 1:\n",
    "            taxi_pull_over.extend([{\"path\" :[sub_data.iloc[0][\"tx_loc\"].x, sub_data.iloc[0][\"tx_loc\"].y], \"timestamp\" : [int(sub_data.iloc[0][\"time\"])]}])\n",
    "        else:\n",
    "            taxi_pull_over.extend([{\"path\" :[sub_data.iloc[0][\"tx_loc\"].x, sub_data.iloc[0][\"tx_loc\"].y], \"timestamp\" : [int(min(sub_data[\"time\"])), int(max(sub_data[\"time\"]))]}])\n",
    "    return taxi_pull_over"
   ]
  },
  {
   "cell_type": "code",
   "execution_count": 19,
   "metadata": {},
   "outputs": [],
   "source": [
    "stop_taxi = pd.concat(list(map(lambda data: stop_taxi_inf(data), et)))\n",
    "\n",
    "empty = list(map(lambda data : generate_taxi_pull_over_inf(data[1]) ,stop_taxi.groupby(\"no\")))\n",
    "\n",
    "empty = list(itertools.chain(*empty))"
   ]
  },
  {
   "cell_type": "code",
   "execution_count": 20,
   "metadata": {},
   "outputs": [],
   "source": [
    "file_path = \"empty.json\"\n",
    "\n",
    "with open(file_path, \"w\") as f:\n",
    "    json.dump(empty, f)"
   ]
  },
  {
   "cell_type": "code",
   "execution_count": 21,
   "metadata": {},
   "outputs": [],
   "source": [
    "file_path = \"trips.json\"\n",
    "\n",
    "with open(file_path, \"w\") as f:\n",
    "    json.dump(trips, f)"
   ]
  }
 ],
 "metadata": {
  "interpreter": {
   "hash": "916dbcbb3f70747c44a77c7bcd40155683ae19c65e1c03b4aa3499c5328201f1"
  },
  "kernelspec": {
   "display_name": "Python 3.8.10 64-bit",
   "language": "python",
   "name": "python3"
  },
  "language_info": {
   "codemirror_mode": {
    "name": "ipython",
    "version": 3
   },
   "file_extension": ".py",
   "mimetype": "text/x-python",
   "name": "python",
   "nbconvert_exporter": "python",
   "pygments_lexer": "ipython3",
   "version": "3.8.10"
  },
  "orig_nbformat": 4
 },
 "nbformat": 4,
 "nbformat_minor": 2
}

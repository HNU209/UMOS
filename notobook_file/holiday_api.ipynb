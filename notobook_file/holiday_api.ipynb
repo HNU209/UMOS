{
 "cells": [
  {
   "cell_type": "code",
   "execution_count": 105,
   "metadata": {},
   "outputs": [],
   "source": [
    "# Python3 샘플 코드\n",
    "import requests\n",
    "from bs4 import BeautifulSoup as bs\n",
    "import pandas as pd\n",
    "import warnings\n",
    "\n",
    "warnings.filterwarnings(\"ignore\")"
   ]
  },
  {
   "cell_type": "code",
   "execution_count": 108,
   "metadata": {},
   "outputs": [],
   "source": [
    "def holiday_api_month(date):\n",
    "    print(date)\n",
    "    url = 'http://apis.data.go.kr/B090041/openapi/service/SpcdeInfoService/getRestDeInfo'\n",
    "    servicekey = \"OoraGlG8Wqep6KTvxGKAXZqSH36n1DryLszH/ntM6xaZ85li9b486qWrH+orpFTqj8h9mocjCaNl+1WtDG4FEQ==\"\n",
    "    params ={'serviceKey' : f'{servicekey}', 'solYear' : f\"{date[:4]}\", 'solMonth' : f'{date[4:]}' }\n",
    "\n",
    "    response = requests.get(url, params=params)\n",
    "    soup = bs(response.text, \"html.parser\")\n",
    "    data = pd.DataFrame([[i.contents[0] for i in soup.select(\"datename\")],[i.contents[0] for i in soup.select(\"locdate\")]]).T\n",
    "    data.columns = [\"datename\",\"date\"]\n",
    "    return data"
   ]
  },
  {
   "cell_type": "code",
   "execution_count": 109,
   "metadata": {},
   "outputs": [],
   "source": [
    "def holiday_api_year(date):\n",
    "    data = [holiday_api_month(date+i) for i in [f\"0{i}\" if i < 10 else f\"{i}\" for i in range(1,13)]]\n",
    "    return pd.concat(data)"
   ]
  }
 ],
 "metadata": {
  "interpreter": {
   "hash": "916dbcbb3f70747c44a77c7bcd40155683ae19c65e1c03b4aa3499c5328201f1"
  },
  "kernelspec": {
   "display_name": "Python 3.8.10 64-bit",
   "language": "python",
   "name": "python3"
  },
  "language_info": {
   "codemirror_mode": {
    "name": "ipython",
    "version": 3
   },
   "file_extension": ".py",
   "mimetype": "text/x-python",
   "name": "python",
   "nbconvert_exporter": "python",
   "pygments_lexer": "ipython3",
   "version": "3.8.10"
  },
  "orig_nbformat": 4
 },
 "nbformat": 4,
 "nbformat_minor": 2
}

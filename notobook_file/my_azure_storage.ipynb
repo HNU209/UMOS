{
 "cells": [
  {
   "cell_type": "code",
   "execution_count": 1,
   "metadata": {},
   "outputs": [],
   "source": [
    "from azure.storage.blob import BlobServiceClient, BlobClient\n",
    "import geopandas as gpd\n",
    "import pandas as pd\n",
    "import json"
   ]
  },
  {
   "cell_type": "markdown",
   "metadata": {},
   "source": [
    "- storage container 연결"
   ]
  },
  {
   "cell_type": "code",
   "execution_count": 2,
   "metadata": {},
   "outputs": [],
   "source": [
    "#rawdata container 연결\n",
    "def connect_container(container): \n",
    "    ### storage connect str (고유값)\n",
    "    connect_str = 'DefaultEndpointsProtocol=https;AccountName=hnu;AccountKey=hGGsXvXa+lwezkaGaKj8EYYSLsYA7sp3oPI1u7Oct0si3oi9QLawtpG1Fihsc603PT5+i0UZZEGhyc/SgUc2cA==;EndpointSuffix=core.windows.net'\n",
    "    ### storage connect\n",
    "    client = BlobServiceClient.from_connection_string(connect_str)\n",
    "    #rawdata container 없으면 생성\n",
    "    try:\n",
    "        client.create_container(container)\n",
    "    except:\n",
    "        pass\n",
    "    #rawdata container 연결\n",
    "    rawdata_container = client.get_container_client(container) \n",
    "    return rawdata_container"
   ]
  },
  {
   "cell_type": "markdown",
   "metadata": {},
   "source": [
    "- storage blob uploader"
   ]
  },
  {
   "cell_type": "code",
   "execution_count": 3,
   "metadata": {},
   "outputs": [],
   "source": [
    "def blob_uploader(data, container, save_name):\n",
    "    ### storage connect str (고유값)\n",
    "    connect_str = 'DefaultEndpointsProtocol=https;AccountName=hnu;AccountKey=hGGsXvXa+lwezkaGaKj8EYYSLsYA7sp3oPI1u7Oct0si3oi9QLawtpG1Fihsc603PT5+i0UZZEGhyc/SgUc2cA==;EndpointSuffix=core.windows.net'\n",
    "    \n",
    "    blob = BlobClient.from_connection_string(conn_str=connect_str, container_name=container, blob_name=f\"{save_name}.json\")\n",
    "    blob.upload_blob(data)\n",
    "    print(\"upload success\", end=\"\\r\")"
   ]
  },
  {
   "cell_type": "markdown",
   "metadata": {},
   "source": [
    "- storage data loader"
   ]
  },
  {
   "cell_type": "code",
   "execution_count": null,
   "metadata": {},
   "outputs": [],
   "source": [
    "def load_json_trans_data(filename, container, type=\"pd\"):    \n",
    "    json_blob = container.get_blob_client(f\"{filename}.json\")\n",
    "    blob_data = json_blob.download_blob()\n",
    "    data = json.loads(blob_data.content_as_bytes())\n",
    "    if type == \"pd\":\n",
    "        return pd.DataFrame(data)\n",
    "    elif type == \"gpd\":\n",
    "        return gpd.GeoDataFrame.from_features(data[\"features\"])"
   ]
  },
  {
   "cell_type": "markdown",
   "metadata": {},
   "source": [
    "- blob 삭제"
   ]
  },
  {
   "cell_type": "code",
   "execution_count": null,
   "metadata": {},
   "outputs": [],
   "source": [
    "def delete_blob(contrainer, blob_nm):\n",
    "    container = connect_container(container)    \n",
    "    target_blob = container.get_blob_client(f'{blob_nm}')\n",
    "    target_blob.delete_blob()"
   ]
  }
 ],
 "metadata": {
  "interpreter": {
   "hash": "916dbcbb3f70747c44a77c7bcd40155683ae19c65e1c03b4aa3499c5328201f1"
  },
  "kernelspec": {
   "display_name": "Python 3.8.10 64-bit",
   "language": "python",
   "name": "python3"
  },
  "language_info": {
   "codemirror_mode": {
    "name": "ipython",
    "version": 3
   },
   "file_extension": ".py",
   "mimetype": "text/x-python",
   "name": "python",
   "nbconvert_exporter": "python",
   "pygments_lexer": "ipython3",
   "version": "3.8.10"
  },
  "orig_nbformat": 4
 },
 "nbformat": 4,
 "nbformat_minor": 2
}

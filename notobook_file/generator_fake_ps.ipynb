{
 "cells": [
  {
   "cell_type": "code",
   "execution_count": 1,
   "metadata": {},
   "outputs": [],
   "source": [
    "import pandas as pd \n",
    "import numpy as np\n",
    "import itertools\n",
    "import geopandas as gpd\n",
    "from my_azure_storage import *\n",
    "from osrm_api import *\n",
    "from add_location import add_ps_location"
   ]
  },
  {
   "cell_type": "markdown",
   "metadata": {},
   "source": [
    "- 출발 운행 지역 : 서울(11)\n",
    "- 도착 운행 지역 : 서울(11), 서울 인근 경기 지역 12곳, 인천공항\n",
    "- 예외적 운행지역 : 부천(3105), 김포(3123), 양주(3126), 고양(3110), 의정부(3103), 남양주(3113), 구리(3112), 하남(3118), 과천(3111), 안양(3104), 광명(3106), 성남(3102), 인천공항-운서동(2301064)\n",
    "- 동에서 동으로 이동하는 경우 제외"
   ]
  },
  {
   "cell_type": "code",
   "execution_count": 2,
   "metadata": {},
   "outputs": [],
   "source": [
    "def generate_fake_passenger_O_D(fake_num=5):\n",
    "    #KT 이동량 데이터 기준 일 평균 서울지역 읍면동 별 유동 인구 RAW DATA\n",
    "    extradata_ct = connect_container(\"extradata\")\n",
    "    main_data = load_json_trans_data(\"fake_passenger_raw_data\", extradata_ct)\n",
    "\n",
    "    #서울시 장애인 인구 4% 적용?? -> 약 10배 0.0035(0.35%), 약 5배 0.0017(0.17%)\n",
    "    if fake_num == 5:\n",
    "        num = 0.0017\n",
    "    elif fake_num == 10:\n",
    "        num = 0.0035\n",
    "    main_data[\"이동인구(합)\"] = main_data[\"이동인구(합)\"] * num\n",
    "\n",
    "    #포아송 분포로 만든 이동 분포\n",
    "    rng = np.random.default_rng()\n",
    "    s = rng.poisson(main_data[\"이동인구(합)\"].values)\n",
    "\n",
    "    main_data[\"이동인구(합)\"] = s\n",
    "\n",
    "    main_data[\"출발 행정동 코드\"] = list(map(str, main_data[\"출발 행정동 코드\"]))\n",
    "    main_data[\"도착 행정동 코드\"] = list(map(str, main_data[\"도착 행정동 코드\"]))\n",
    "\n",
    "    # 이동인구 없는 행 제거\n",
    "    main_data = main_data.loc[main_data[\"이동인구(합)\"] != 0]\n",
    "\n",
    "    # main_data -> O-D 수 기준으로 데이터 재구성\n",
    "    main_data = pd.DataFrame(list(itertools.chain(*[[i.tolist()] * j  for i,j in zip(main_data.values[:,:2], main_data.values[:,2])])), columns = [\"origin_code\",\"dest_code\"])\n",
    "    return main_data"
   ]
  },
  {
   "cell_type": "code",
   "execution_count": 3,
   "metadata": {},
   "outputs": [],
   "source": [
    "def data_prepared(main_data):\n",
    "    #법정동 코드\n",
    "    extradata_ct = connect_container(\"extradata\")\n",
    "    hjd_20180401 = load_json_trans_data(\"hjd_20180401\", extradata_ct, type=\"gpd\")\n",
    "\n",
    "    start = main_data[[\"origin_code\"]]; end = main_data[[\"dest_code\"]]\n",
    "    start.columns = [\"adm_cd\"]\n",
    "    end.columns = [\"adm_cd\"]\n",
    "\n",
    "    start = pd.merge(start, hjd_20180401[[\"adm_cd\", \"adm_nm\"]])\n",
    "    end = pd.merge(end, hjd_20180401[[\"adm_cd\", \"adm_nm\"]])\n",
    "\n",
    "    main_data = pd.concat([start[\"adm_nm\"], end[\"adm_nm\"]], axis=1)\n",
    "    main_data.columns = [\"startpos\", \"endpos\"]\n",
    "\n",
    "    main_data[\"startpos\"] = list(map(lambda data: f\"{data.split(' ')[-1]} {data.split(' ')[1]}\",main_data[\"startpos\"]))\n",
    "    main_data[\"endpos\"] = list(map(lambda data: f\"{data.split(' ')[-1]} {data.split(' ')[1]}\",main_data[\"endpos\"]))\n",
    "    return main_data"
   ]
  },
  {
   "cell_type": "code",
   "execution_count": 4,
   "metadata": {},
   "outputs": [],
   "source": [
    "###시간 단위 변환 함수 (0~1440분) \n",
    "def time_transform(ps_loc_data):\n",
    "    ps_loc_data = ps_loc_data[\"call_time\"].value_counts().reset_index() \n",
    "    ps_loc_data.columns = [\"time\", \"cnt\"]\n",
    "    ps_loc_data[\"ratio\"] = [i/sum(ps_loc_data[\"cnt\"]) for i in ps_loc_data[\"cnt\"]]\n",
    "    return ps_loc_data\n",
    "\n",
    "def add_passenger_type(ps_loc_data):\n",
    "    np.random.seed(1205)\n",
    "    passenger_type_data = np.random.choice(2 ,size = len(ps_loc_data), p=[0.2, 0.8])\n",
    "    ps_loc_data[\"ps_type\"] = passenger_type_data\n",
    "    return ps_loc_data"
   ]
  },
  {
   "cell_type": "code",
   "execution_count": 14,
   "metadata": {},
   "outputs": [],
   "source": [
    "def generate_fake_passenger(data, fake_num=5):\n",
    "    fake_data = generate_fake_passenger_O_D(fake_num)\n",
    "    fake_data = data_prepared(fake_data)\n",
    "    fake_data = add_ps_location(fake_data, mode = \"fake\")\n",
    "    fake_data = add_passenger_type(fake_data)\n",
    "    time_data = time_transform(data)\n",
    "    fake_data[\"time\"] = np.random.choice(time_data[\"time\"].tolist() ,size = len(fake_data), p= time_data[\"ratio\"].tolist())\n",
    "    \n",
    "    fake_data = fake_data[[\"ps_type\", \"start_point\", \"end_point\", \"time\", \"adm_nm_start\", \"adm_nm_end\"]]\n",
    "    fake_data.columns = [\"ps_type\", \"start_point\", \"end_point\", \"call_time\", \"adm_nm_start\", \"adm_nm_end\"]\n",
    "    \n",
    "    fake_data = get_route_time_dataframe(fake_data)\n",
    "    \n",
    "    fake_data.columns = ['ps_type', 'ps_loc_0', 'ps_loc_1', 'call_time', \"adm_nm_start\", \"adm_nm_end\", 'ps_route', 'ps_timestamp', 'ps_distance']\n",
    "     #콜 잡고 차량 올때까지 대기시간\n",
    "    fake_data[\"wait_time\"] = 0\n",
    "    #콜 잡히는데 걸리는 시간\n",
    "    fake_data[\"dispatch_time\"] = 0\n",
    "    #콜 실패 유무 0:성공, 1:실패 -> 지금은 실패가 없어서 알고리즘 업데이트 아직 x\n",
    "    fake_data[\"request_fail\"] = 0\n",
    "    data = pd.concat([data, fake_data])\n",
    "    return data"
   ]
  }
 ],
 "metadata": {
  "interpreter": {
   "hash": "916dbcbb3f70747c44a77c7bcd40155683ae19c65e1c03b4aa3499c5328201f1"
  },
  "kernelspec": {
   "display_name": "Python 3.8.10 64-bit",
   "language": "python",
   "name": "python3"
  },
  "language_info": {
   "codemirror_mode": {
    "name": "ipython",
    "version": 3
   },
   "file_extension": ".py",
   "mimetype": "text/x-python",
   "name": "python",
   "nbconvert_exporter": "python",
   "pygments_lexer": "ipython3",
   "version": "3.8.10"
  },
  "orig_nbformat": 4
 },
 "nbformat": 4,
 "nbformat_minor": 2
}

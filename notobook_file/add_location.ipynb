{
 "cells": [
  {
   "cell_type": "code",
   "execution_count": 1,
   "metadata": {},
   "outputs": [],
   "source": [
    "from disabled_passenger_api import dispatch_data_loader\n",
    "from my_azure_storage import *\n",
    "import osmnx as ox\n",
    "from numpy import random \n",
    "from shapely.geometry import Point\n",
    "\n",
    "import geopandas as gpd\n",
    "import pandas as pd\n",
    "import numpy as np\n",
    "import itertools\n",
    "import re \n",
    "from tqdm import tqdm\n",
    "import warnings \n",
    "\n",
    "warnings.filterwarnings(\"ignore\")"
   ]
  },
  {
   "cell_type": "markdown",
   "metadata": {},
   "source": [
    "- 다 좋은데 읽는데 너무 느림"
   ]
  },
  {
   "cell_type": "code",
   "execution_count": 2,
   "metadata": {},
   "outputs": [],
   "source": [
    "## 택시 데이터\n",
    "handicapped_move_data = dispatch_data_loader(\"20220216\")\n",
    "\n",
    "extradata_ct = connect_container(\"extradata\")\n",
    "\n",
    "## 도로 데이터\n",
    "edges = load_json_trans_data(\"edges\", extradata_ct, type = \"gpd\")\n",
    "nodes = load_json_trans_data(\"nodes\", extradata_ct, type = \"gpd\")\n",
    "\n",
    "##행정구역 데이터\n",
    "hjd_20180401 = load_json_trans_data(\"hjd_20180401\", extradata_ct, type = \"gpd\")\n",
    "\n",
    "#운영지역인 \"서울\", \"인천\", \"경기\"만 추출\n",
    "def hjd_filter(data):\n",
    "    #11 서울, 23 인천, 31 경기 \n",
    "    return (data[:2] == \"11\") | (data[:2] == \"23\") | (data[:2] == \"31\")\n",
    "\n",
    "hjd_20180401 = hjd_20180401.loc[list(map(lambda data: hjd_filter(data) ,hjd_20180401.adm_cd))]"
   ]
  },
  {
   "cell_type": "markdown",
   "metadata": {},
   "source": [
    "---"
   ]
  },
  {
   "cell_type": "code",
   "execution_count": 3,
   "metadata": {},
   "outputs": [],
   "source": [
    "# \"방화 제3동' 처럼 숫자 앞 \"제\"가 들어가 있는 것을 \"방화3동\"으로 변경, \n",
    "# 정규표현식으로 [제+숫자] 패턴이 있으면 \"제\"를 제거 후 위치 변수를 생성해준다 \n",
    "def generate_places_name(main_category, middle_category):\n",
    "    #변경된 행정구역명 변수 생성 \n",
    "    change_dict = {\"명륜1가동\": \"혜화동\", \"명륜2가동\":\"혜화동\", \"명륜3가동\":\"혜화동\", \"명륜4가동\":\"혜화동\", \n",
    "                \"명륜5가동\":\"혜화동\",\"답십리3동\":\"답십리1동\",\"답십리4동\":\"답십리2동\",\"장안3동\":\"장안2동\", \n",
    "                \"장안3동\":\"장안1동\",\"제기1동\":\"제기동\", \"제기2동\":\"제기동\",\"장안4동\":\"장안2동\",\"신설동\":\"용신동\",\n",
    "                \"전농3동\":\"전농2동\",\"공릉1.3동\":\"공릉1동\", \"이문3동\":\"이문2동\",\"고촌면\":\"고촌읍\", \"소사본1동\":\"소사본동\",\n",
    "                \"양촌면\":\"양촌읍\", \"용두동\":\"용신동\", \"신당3동\": \"신당동\", \"신당4동\":\"신당동\" ,\"신당6동\":\"신당동\",\n",
    "                \"신당2동\":\"신당동\", \"신당1동\":\"신당동\", \"김포1동\":\"김포본동\", \"김포2동\":\"장기본동\", \"지금동\":\"다산2동\", \"도농동\":\"다산2동\",\n",
    "                \"가능2동\":\"흥선동\", \"가능3동\":\"흥선동\"}\n",
    "    \n",
    "    p = re.compile(\"제+[0-9]\")\n",
    "    mask =  p.findall(middle_category)\n",
    "    mask = [mask[0][1:]] if len(list(itertools.chain(*mask))) > 2 else mask\n",
    "    if len(mask) > 0:\n",
    "        middle_category = middle_category.split(mask[0])[0] + mask[0][1] + middle_category.split(mask[0])[1]\n",
    "    try: \n",
    "        middle_category = change_dict[middle_category]\n",
    "    except:\n",
    "        pass\n",
    "    category = middle_category + \" \" + main_category\n",
    "    return category"
   ]
  },
  {
   "cell_type": "code",
   "execution_count": 4,
   "metadata": {},
   "outputs": [],
   "source": [
    "#데이터에 맞는 법정동 geometry 리스트 반환\n",
    "def get_location_bjd_geometry_and_admname(location_list, hjd_df):\n",
    "    HJD_Dong_2018 = list(map(lambda data: data.split(\" \")[-1], hjd_df.adm_nm))\n",
    "    HJD_Sigon_2018 = list(map(lambda data: data.split(\" \")[1], hjd_df.adm_nm))\n",
    "\n",
    "    hjd_geometry = []\n",
    "    adm_name = []\n",
    "    for i in location_list:\n",
    "        place = i.split(\" \")\n",
    "        step1_mask = np.where(np.array(HJD_Dong_2018) == place[0])[0].tolist()\n",
    "        if len(step1_mask) == 1:\n",
    "            hjd_geometry.append(hjd_df.iloc[step1_mask[0]].geometry)\n",
    "            adm_name.append(hjd_df.iloc[step1_mask[0]].adm_nm)\n",
    "        else:\n",
    "            step2_mask = np.where(np.array(HJD_Sigon_2018) == place[1])[0].tolist()\n",
    "            step2_mask = set(step1_mask) & set(step2_mask)\n",
    "            hjd_geometry.append(hjd_df.iloc[list(step2_mask)[0]].geometry)\n",
    "            adm_name.append(hjd_df.iloc[list(step2_mask)[0]].adm_nm)\n",
    "            \n",
    "    return hjd_geometry, adm_name"
   ]
  },
  {
   "cell_type": "code",
   "execution_count": 5,
   "metadata": {},
   "outputs": [],
   "source": [
    "#행정구역 별 랜덤 좌표 필요한 갯수 데이터프레임 추출\n",
    "def generate_location_cnt_df(move_data, where):\n",
    "    pos_cnt = move_data[f\"{where}pos\"].value_counts().to_frame().reset_index()\n",
    "    pos_cnt.columns = [f\"{where}pos\", \"cnt\"]    \n",
    "    pos_cnt = pd.merge(move_data[[f\"{where}pos\", f\"{where}_geometry\"]].drop_duplicates([f\"{where}pos\"]), pos_cnt)\n",
    "    return pos_cnt"
   ]
  },
  {
   "cell_type": "code",
   "execution_count": 6,
   "metadata": {},
   "outputs": [],
   "source": [
    "#위치 좌표 랜덤 생성\n",
    "def Generate_random_location(data, CNT):   #place : 관심지역,  cnt: 차량 수    \n",
    "    #Meter -> Euclid : 단위 변환\n",
    "    def euclid_distance_cal(meter):\n",
    "        ###유클리드 거리와 실제 거리를 기반으로 1미터당 유클리드 거리 추출\n",
    "        #점 쌍 사이의 유클리드 거리를 계산\n",
    "        dis_1 = ox.distance.euclidean_dist_vec(36.367658 , 127.447499, 36.443928, 127.419678)\n",
    "        #직선거리 계산\n",
    "        dis_2 = ox.distance.great_circle_vec(36.367658 , 127.447499, 36.443928, 127.419678)\n",
    "        return dis_1/dis_2 * meter\n",
    "    \n",
    "    #위치 좌표 랜덤 생성\n",
    "    locations = []\n",
    "    for i in random.choice(range(len(data)), size = CNT, replace = False):\n",
    "        #교차로 중심에 생성되지 않게 고정 미터로 생성이 아닌 해당 링크 길이로 유동적인 미터 생성\n",
    "        random_num = random.choice([0.1,0.2,0.3,0.4,0.5])\n",
    "        random_meter = data.iloc[i][\"length\"] * random_num\n",
    "        #좌표 생성\n",
    "        new_node = list(ox.utils_geo.interpolate_points(data.iloc[i][\"geometry\"], euclid_distance_cal(random_meter)))\n",
    "        #좌표의 처음과 끝은 노드이기 때문에 제거하고 선택\n",
    "        del new_node[0], new_node[-1]\n",
    "        #랜덤으로 선택한 하나의 링크에서 하나의 택시 좌표 선택 \n",
    "        idx = random.choice(len(new_node), size = 1)\n",
    "        location = new_node[idx[0]]\n",
    "        locations.append(location)\n",
    "        \n",
    "    locations = list(map(lambda data: Point(data),locations))\n",
    "\n",
    "    return locations"
   ]
  },
  {
   "cell_type": "code",
   "execution_count": 7,
   "metadata": {},
   "outputs": [],
   "source": [
    "#도로 행정구역 경계로 서브셋 추출\n",
    "def generate_subset(geometry, data_edges):\n",
    "    data_edges[\"idx\"] = range(len(data_edges))\n",
    "    \n",
    "    subset = gpd.GeoDataFrame({\"geometry\": [geometry]})\n",
    "    subset = data_edges.iloc[sorted(gpd.sjoin(subset, data_edges,how='left', op=\"intersects\").idx.values)]\n",
    "    return subset"
   ]
  },
  {
   "cell_type": "code",
   "execution_count": 8,
   "metadata": {},
   "outputs": [],
   "source": [
    "def main_random_location(data_edges, pos_cnt, move_data, where):\n",
    "    random_locations = []\n",
    "\n",
    "    for i in tqdm(range(len(pos_cnt))):\n",
    "        subset = generate_subset(pos_cnt.iloc[i][f\"{where}_geometry\"], data_edges)\n",
    "        random_location = Generate_random_location(subset, pos_cnt.iloc[i].cnt)\n",
    "        random_locations.append(random_location)\n",
    "    pos_cnt[f\"{where}_random_location\"] = random_locations\n",
    "    \n",
    "    node_mask_dict = dict()\n",
    "    for i in range(len(pos_cnt)):\n",
    "        mask =  np.where(np.array(move_data[f\"{where}pos\"]) == pos_cnt.iloc[i][f\"{where}pos\"])[0].tolist()\n",
    "        nodes = pos_cnt.iloc[i][f\"{where}_random_location\"]\n",
    "        for m,n in zip(mask,nodes):\n",
    "            node_mask_dict[m] = n\n",
    "            \n",
    "    return pos_cnt, node_mask_dict"
   ]
  },
  {
   "cell_type": "code",
   "execution_count": 14,
   "metadata": {},
   "outputs": [],
   "source": [
    "def add_ps_location(disabled_data, hjd_20180401 = hjd_20180401, mode = \"basic\"):\n",
    "    #출발지, 도착지 리스트로 정의\n",
    "    if mode == \"basic\":\n",
    "        start_location = list(map(lambda data: generate_places_name(disabled_data.iloc[data][\"startpos1\"], disabled_data.iloc[data][\"startpos2\"]), range(len(disabled_data))))\n",
    "        end_location = list(map(lambda data: generate_places_name(disabled_data.iloc[data][\"endpos1\"], disabled_data.iloc[data][\"endpos2\"]), range(len(disabled_data))))\n",
    "\n",
    "        disabled_data[\"startpos\"] = [i.replace(\".\",\"·\") if \".\" in i else i for i in start_location]\n",
    "        disabled_data[\"endpos\"] = [i.replace(\".\",\"·\") if \".\" in i else i for i in end_location]\n",
    "    elif mode == \"fake\":\n",
    "        pass\n",
    "    start_result = get_location_bjd_geometry_and_admname(disabled_data[\"startpos\"], hjd_20180401)\n",
    "    end_result = get_location_bjd_geometry_and_admname(disabled_data[\"endpos\"], hjd_20180401)\n",
    "\n",
    "    disabled_data[\"start_geometry\"] = start_result[0]\n",
    "    disabled_data[\"end_geometry\"] = end_result[0]\n",
    "    disabled_data[\"adm_nm_start\"] = start_result[1]\n",
    "    disabled_data[\"adm_nm_end\"] = end_result[1]\n",
    "    \n",
    "    startpos_cnt =  generate_location_cnt_df(disabled_data,\"start\")\n",
    "    endpos_cnt =  generate_location_cnt_df(disabled_data,\"end\")\n",
    "\n",
    "    startpos_cnt, start_dict = main_random_location(edges, startpos_cnt, disabled_data, \"start\")\n",
    "    endpos_cnt, end_dict = main_random_location(edges, endpos_cnt, disabled_data, \"end\")\n",
    "\n",
    "    disabled_data[\"start_point\"] = [start_dict[i] for i in range(len(disabled_data))]\n",
    "    disabled_data[\"end_point\"] = [end_dict[i] for i in range(len(disabled_data))]\n",
    "    try: \n",
    "        disabled_data = disabled_data[[\"no\", \"cartype\", \"settime_date\", \"settime_time\", \"receipttime_date\", \"receipttime_time\",\n",
    "                                    \"start_point\", \"end_point\", \"adm_nm_start\", \"adm_nm_end\", \"start_geometry\", \"end_geometry\"]]\n",
    "    except:\n",
    "        disabled_data = disabled_data[[\"cartype\",\"start_point\", \"end_point\", \"adm_nm_start\", \"adm_nm_end\",\n",
    "                                       \"start_geometry\", \"end_geometry\"]]\n",
    "    return disabled_data"
   ]
  },
  {
   "cell_type": "markdown",
   "metadata": {},
   "source": [
    "a = add_ps_location(handicapped_move_data, hjd_20180401)"
   ]
  },
  {
   "cell_type": "markdown",
   "metadata": {},
   "source": [
    "handicapped_move_data.to_pickle(\"passenger_locations.pkl\")"
   ]
  }
 ],
 "metadata": {
  "interpreter": {
   "hash": "916dbcbb3f70747c44a77c7bcd40155683ae19c65e1c03b4aa3499c5328201f1"
  },
  "kernelspec": {
   "display_name": "Python 3.8.10 64-bit",
   "language": "python",
   "name": "python3"
  },
  "language_info": {
   "codemirror_mode": {
    "name": "ipython",
    "version": 3
   },
   "file_extension": ".py",
   "mimetype": "text/x-python",
   "name": "python",
   "nbconvert_exporter": "python",
   "pygments_lexer": "ipython3",
   "version": "3.8.10"
  },
  "orig_nbformat": 4
 },
 "nbformat": 4,
 "nbformat_minor": 2
}

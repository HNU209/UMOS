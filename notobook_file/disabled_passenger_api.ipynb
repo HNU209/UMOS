{
 "cells": [
  {
   "cell_type": "markdown",
   "metadata": {},
   "source": [
    "### Disabled Passenger API "
   ]
  },
  {
   "cell_type": "markdown",
   "metadata": {},
   "source": [
    "#### 01. Load disabled passegner API DATA"
   ]
  },
  {
   "cell_type": "code",
   "execution_count": 5,
   "metadata": {},
   "outputs": [],
   "source": [
    "from my_azure_storage import *\n",
    "from bs4 import BeautifulSoup as bs\n",
    "import pandas as pd\n",
    "import numpy as np\n",
    "import requests\n",
    "import datetime as dt "
   ]
  },
  {
   "cell_type": "code",
   "execution_count": 2,
   "metadata": {},
   "outputs": [],
   "source": [
    "## 데이터 컬럼 설명\n",
    "'''\n",
    "no : 차량고유번호\n",
    "cartype : '차량타입'\n",
    "receipttime : '예정일시'\n",
    "settime : '배차일시'\n",
    "ridetime : '승차일시'\n",
    "startpos1 : '출발지구군'\n",
    "startpos2 : '출발지상세'\n",
    "endpos1 : '목적지구군'\n",
    "endpos2 : '목적지상세'\n",
    "'''\n",
    "\n",
    "def load_disabled_calltaxi_data(date):\n",
    "    ## 요청 인자\n",
    "    key = '474d574475686e753130366a52454b54'\n",
    "    file_type = 'xml' # xml - xml, xls - 엑셀, json - json\n",
    "    service = 'disabledCalltaxi' # 장애인콜시스템\n",
    "    start_index = 1 # 데이터 행 시작번호\n",
    "    end_index = 200 # 데이터 행 끝번호\n",
    "    reg_date = date # 요청일\n",
    "    \n",
    "    ## 요청 url\n",
    "    url = f'http://openapi.seoul.go.kr:8088/{key}/{file_type}/{service}/{start_index}/{end_index}/{reg_date}'\n",
    "\n",
    "    ## API 요청\n",
    "    html = requests.get(url)\n",
    "    soup = bs(html.text)\n",
    "\n",
    "    ## parsing\n",
    "    data = []\n",
    "    items = soup.findAll('item')\n",
    "    for item in items:\n",
    "        no = item.find('no').text\n",
    "        cartype = item.find('cartype').text\n",
    "        receipttime = item.find('receipttime').text\n",
    "        settime = item.find('settime').text\n",
    "        ridetime = item.find('ridetime').text\n",
    "        startpos1 = item.find('startpos1').text\n",
    "        startpos2 = item.find('startpos2').text\n",
    "        endpos1 = item.find('endpos1').text\n",
    "        endpos2 = item.find('endpos2').text\n",
    "\n",
    "        data.append([no, cartype, receipttime, settime, ridetime, startpos1, startpos2, endpos1, endpos2])\n",
    "\n",
    "    ## list => dataframe\n",
    "    df = pd.DataFrame(data, columns=['no', 'cartype', 'receipttime', 'settime', 'ridetime', 'startpos1', 'startpos2', 'endpos1', 'endpos2'])    \n",
    "    \n",
    "    ## 결측치나 입력이 이상하게 되있는 경우 제외\n",
    "    def error_change_nan(df, columns):\n",
    "        df[f\"{columns}\"] = [i if \"오\" in i else np.nan for i in df[f\"{columns}\"]]\n",
    "        return df\n",
    "\n",
    "    for i in ['receipttime', 'settime', 'ridetime']:\n",
    "        df = error_change_nan(df, i)\n",
    "    \n",
    "    df = df.replace('',np.nan)\n",
    "    df = df.dropna(axis=0)\n",
    "    return df"
   ]
  },
  {
   "cell_type": "markdown",
   "metadata": {},
   "source": [
    "#### 02. Data preparation"
   ]
  },
  {
   "cell_type": "code",
   "execution_count": 3,
   "metadata": {},
   "outputs": [],
   "source": [
    "def data_prepared(df):\n",
    "    ## string column to datetime column\n",
    "    df['receipttime'] = pd.to_datetime(df['receipttime'].map(lambda x: x.replace('오전', 'AM') if '오전' in x else x.replace('오후', 'PM')), format = \"%Y-%m-%d %p %I:%M:%S\")\n",
    "    df['settime'] = pd.to_datetime(df['settime'].map(lambda x: x.replace('오전', 'AM') if '오전' in x else x.replace('오후', 'PM')), format = \"%Y-%m-%d %p %I:%M:%S\")\n",
    "    df['ridetime'] = pd.to_datetime(df['ridetime'].map(lambda x: x.replace('오전', 'AM') if '오전' in x else x.replace('오후', 'PM')), format = \"%Y-%m-%d %p %I:%M:%S\")\n",
    "    \n",
    "    ## split date & time function\n",
    "    def split_column(df, col_name):\n",
    "        df[f'{col_name}_date'] = df[col_name].dt.date\n",
    "        df[f'{col_name}_time'] = df[col_name].dt.time\n",
    "        df = df.drop([col_name], axis=1)\n",
    "        return df\n",
    "\n",
    "    ## split data\n",
    "    for col_name in ['receipttime', 'settime', 'ridetime']:\n",
    "        df = split_column(df, col_name)\n",
    "    return df"
   ]
  },
  {
   "cell_type": "markdown",
   "metadata": {},
   "source": [
    "#### 03. Azure Storage"
   ]
  },
  {
   "cell_type": "markdown",
   "metadata": {},
   "source": [
    "- Storage rawdata container 안에 없으면 API를 통해 data를 받고 load, 있으면 Storage 안에 있는거 꺼내서 씀"
   ]
  },
  {
   "cell_type": "code",
   "execution_count": 4,
   "metadata": {},
   "outputs": [],
   "source": [
    "def container_blob_check(date): \n",
    "    #container 연결\n",
    "    rawdata_container = connect_container(\"rawdata\")\n",
    "    #blob 리스트\n",
    "    blob_list = [i.name for i in rawdata_container.list_blobs()]\n",
    "    \n",
    "    if len(date) > 1:\n",
    "        ###요청일자 확인 \n",
    "        mask = np.array(list(map(lambda data: f\"{data}.json\" in blob_list, date)))\n",
    "        if mask.any() == False: \n",
    "            date_1 = load_disabled_calltaxi_data(date[0])\n",
    "            date_2 = load_disabled_calltaxi_data(date[1])\n",
    "            blob_uploader(date_1.to_json(), \"rawdata\", date[0])\n",
    "            blob_uploader(date_2.to_json(), \"rawdata\", date[1])\n",
    "            date_1 = load_json_trans_data(date[0], rawdata_container)\n",
    "            date_2 = load_json_trans_data(date[1], rawdata_container)\n",
    "        elif mask.all():\n",
    "            date_1 = load_json_trans_data(date[0], rawdata_container)\n",
    "            date_2 = load_json_trans_data(date[1], rawdata_container)\n",
    "        else: \n",
    "            mask = np.where(mask == False)[0][0]\n",
    "            if mask == 0:\n",
    "                date_1 = load_disabled_calltaxi_data(date[0])\n",
    "                blob_uploader(date_1.to_json(), \"rawdata\", date[0])\n",
    "            elif mask == 1:\n",
    "                date_2 = load_disabled_calltaxi_data(date[1])\n",
    "                blob_uploader(date_2.to_json(), \"rawdata\", date[1])\n",
    "            date_1 = load_json_trans_data(date[0], rawdata_container)\n",
    "            date_2 = load_json_trans_data(date[1], rawdata_container)\n",
    "        return date_1, date_2\n",
    "    elif len(date) == 1:\n",
    "        date_list = f\"{date[0]}.json\"\n",
    "        if date_list in blob_list:\n",
    "            date_1 = load_json_trans_data(date[0], rawdata_container)\n",
    "        else: \n",
    "            date_1 = load_disabled_calltaxi_data(date[0])\n",
    "            blob_uploader(date_1.to_json(), \"rawdata\", date[0])\n",
    "            date_1 = load_json_trans_data(date[0], rawdata_container)\n",
    "        return date_1"
   ]
  },
  {
   "cell_type": "markdown",
   "metadata": {},
   "source": [
    "#### 04. Data Loader"
   ]
  },
  {
   "cell_type": "markdown",
   "metadata": {},
   "source": [
    "- Dispatch data loader "
   ]
  },
  {
   "cell_type": "code",
   "execution_count": 15,
   "metadata": {},
   "outputs": [],
   "source": [
    "#20220101 -> 20220101 00:06:00 ~ 20220102 00:06:00 (배차일시 기준)\n",
    "def dispatch_data_loader(date):\n",
    "    Day = dt.datetime.strptime(date,\"%Y%m%d\")\n",
    "    date = [dt.datetime.strftime(Day, \"%Y%m%d\"), dt.datetime.strftime(Day+dt.timedelta(days=1), \"%Y%m%d\")]\n",
    "        \n",
    "    # Storage를 통해 데이터 load\n",
    "    date_1, date_2 = container_blob_check(date)\n",
    "    \n",
    "    ### Day1\n",
    "    date_1 = data_prepared(date_1)\n",
    "    date_hour_mask_1 = list(map(lambda data : data.hour >=6 ,date_1[\"receipttime_time\"].tolist()))\n",
    "    date_day_mask_1 = list(map(lambda data : data.day == (Day+dt.timedelta(days=1)).day ,date_1[\"receipttime_date\"].tolist()))\n",
    "    mask_1 = [any([h,d]) for h,d in zip(date_hour_mask_1, date_day_mask_1)]\n",
    "    #요청 날짜 06~24시\n",
    "    date_1 = date_1.loc[mask_1]\n",
    "    \n",
    "    ### Day2 \n",
    "    date_2 = data_prepared(date_2)\n",
    "    \n",
    "    date_hour_mask_2 = list(map(lambda data : data.hour <=5 ,date_2[\"receipttime_time\"].tolist()))\n",
    "    date_day_mask_2 = list(map(lambda data : data.day == (Day+dt.timedelta(days=1)).day ,date_2[\"receipttime_date\"].tolist()))\n",
    "    mask_2 = [all([h,d]) for h,d in zip(date_hour_mask_2, date_day_mask_2)]\n",
    "    #요청 날짜 다음날 00~06시\n",
    "    date_2 = date_2.loc[mask_2]\n",
    "    \n",
    "    date = pd.concat([date_1, date_2])\n",
    "    return date"
   ]
  },
  {
   "cell_type": "markdown",
   "metadata": {},
   "source": [
    "- Raw data loader"
   ]
  },
  {
   "cell_type": "code",
   "execution_count": 16,
   "metadata": {},
   "outputs": [],
   "source": [
    "def basic_loader(date):\n",
    "    # Storage를 통해 데이터 load\n",
    "    date_1 = container_blob_check([date])\n",
    "    date_1 = data_prepared(date_1)\n",
    "    return date_1"
   ]
  },
  {
   "cell_type": "markdown",
   "metadata": {},
   "source": [
    "---"
   ]
  },
  {
   "cell_type": "markdown",
   "metadata": {},
   "source": [
    "#### 05. Data Load Test"
   ]
  },
  {
   "cell_type": "code",
   "execution_count": 17,
   "metadata": {},
   "outputs": [
    {
     "name": "stderr",
     "output_type": "stream",
     "text": [
      "/home/yh_zoo/.local/lib/python3.8/site-packages/bs4/builder/__init__.py:545: XMLParsedAsHTMLWarning: It looks like you're parsing an XML document using an HTML parser. If this really is an HTML document (maybe it's XHTML?), you can ignore or filter this warning. If it's XML, you should know that using an XML parser will be more reliable. To parse this document as XML, make sure you have the lxml package installed, and pass the keyword argument `features=\"xml\"` into the BeautifulSoup constructor.\n",
      "  warnings.warn(\n"
     ]
    },
    {
     "name": "stdout",
     "output_type": "stream",
     "text": [
      "upload success\r"
     ]
    }
   ],
   "source": [
    "Date = \"20220316\"\n",
    "data = basic_loader(Date)"
   ]
  },
  {
   "cell_type": "code",
   "execution_count": null,
   "metadata": {},
   "outputs": [],
   "source": [
    "Date = \"20220301\"\n",
    "data = dispatch_data_loader(Date)"
   ]
  }
 ],
 "metadata": {
  "interpreter": {
   "hash": "916dbcbb3f70747c44a77c7bcd40155683ae19c65e1c03b4aa3499c5328201f1"
  },
  "kernelspec": {
   "display_name": "Python 3.8.10 64-bit",
   "language": "python",
   "name": "python3"
  },
  "language_info": {
   "codemirror_mode": {
    "name": "ipython",
    "version": 3
   },
   "file_extension": ".py",
   "mimetype": "text/x-python",
   "name": "python",
   "nbconvert_exporter": "python",
   "pygments_lexer": "ipython3",
   "version": "3.8.10"
  },
  "orig_nbformat": 4
 },
 "nbformat": 4,
 "nbformat_minor": 2
}

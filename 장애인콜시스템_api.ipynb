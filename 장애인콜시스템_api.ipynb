{
 "cells": [
  {
   "cell_type": "code",
   "execution_count": 6,
   "metadata": {},
   "outputs": [
    {
     "name": "stderr",
     "output_type": "stream",
     "text": [
      "C:\\python\\lib\\site-packages\\bs4\\builder\\__init__.py:545: XMLParsedAsHTMLWarning: It looks like you're parsing an XML document using an HTML parser. If this really is an HTML document (maybe it's XHTML?), you can ignore or filter this warning. If it's XML, you should know that using an XML parser will be more reliable. To parse this document as XML, make sure you have the lxml package installed, and pass the keyword argument `features=\"xml\"` into the BeautifulSoup constructor.\n",
      "  warnings.warn(\n"
     ]
    }
   ],
   "source": [
    "from bs4 import BeautifulSoup as bs\n",
    "import pandas as pd\n",
    "import requests\n",
    "\n",
    "## 데이터 컬럼 설명\n",
    "'''\n",
    "no : 차량고유번호\n",
    "cartype : '차량타입'\n",
    "receipttime : '예정일시'\n",
    "settime : '배차일시'\n",
    "ridetime : '승차일시'\n",
    "startpos1 : '출발지구군'\n",
    "startpos2 : '출발지상세'\n",
    "endpos1 : '목적지구군'\n",
    "endpos2 : '목적지상세'\n",
    "'''\n",
    "\n",
    "## 요청 인자\n",
    "key = '474d574475686e753130366a52454b54'\n",
    "file_type = 'xml' # xml - xml, xls - 엑셀, json - json\n",
    "service = 'disabledCalltaxi' # 장애인콜시스템\n",
    "start_index = 1 # 데이터 행 시작번호\n",
    "end_index = 100 # 데이터 행 끝번호\n",
    "reg_date = '20210901' # 요청일\n",
    "\n",
    "## 요청 url\n",
    "url = f'http://openapi.seoul.go.kr:8088/{key}/{file_type}/{service}/{start_index}/{end_index}/{reg_date}'\n",
    "\n",
    "## API 요청\n",
    "html = requests.get(url)\n",
    "soup = bs(html.text)\n",
    "\n",
    "## parsing\n",
    "data = []\n",
    "items = soup.findAll('item')\n",
    "for item in items:\n",
    "    no = item.find('no').text\n",
    "    cartype = item.find('cartype').text\n",
    "    receipttime = item.find('receipttime').text\n",
    "    settime = item.find('settime').text\n",
    "    ridetime = item.find('ridetime').text\n",
    "    startpos1 = item.find('startpos1').text\n",
    "    startpos2 = item.find('startpos2').text\n",
    "    endpos1 = item.find('endpos1').text\n",
    "    endpos2 = item.find('endpos2').text\n",
    "\n",
    "    data.append([no, cartype, receipttime, settime, ridetime, startpos1, startpos2, endpos1, endpos2])\n",
    "\n",
    "## list => dataframe\n",
    "df = pd.DataFrame(data, columns=['no', 'cartype', 'receipttime', 'settime', 'ridetime', 'startpos1', 'startpos2', 'endpos1', 'endpos2'])\n",
    "\n",
    "## string column to datetime column\n",
    "df['receipttime'] = pd.to_datetime(df['receipttime'].map(lambda x: x.replace('오전', 'AM') if '오전' in x else x.replace('오후', 'PM')), format = '%Y-%m-%d %p %I:%M:%S')\n",
    "df['settime'] = pd.to_datetime(df['settime'].map(lambda x: x.replace('오전', 'AM') if '오전' in x else x.replace('오후', 'PM')), format = '%Y-%m-%d %p %I:%M:%S')\n",
    "df['ridetime'] = pd.to_datetime(df['ridetime'].map(lambda x: x.replace('오전', 'AM') if '오전' in x else x.replace('오후', 'PM')), format = '%Y-%m-%d %p %I:%M:%S')\n",
    "\n",
    "## split date & time function\n",
    "def split_column(df, col_name):\n",
    "    df[f'{col_name}_date'] = df[col_name].dt.date\n",
    "    df[f'{col_name}_time'] = df[col_name].dt.time\n",
    "    df = df.drop([col_name], axis=1)\n",
    "    return df\n",
    "\n",
    "## split data\n",
    "for col_name in ['receipttime', 'settime', 'ridetime']:\n",
    "    df = split_column(df, col_name)\n",
    "\n",
    "## save dataframe\n",
    "df.to_csv(f'{start_index}_{end_index}_{reg_date}.csv', encoding='cp949', index=None)"
   ]
  }
 ],
 "metadata": {
  "interpreter": {
   "hash": "e922dd073470bdcc017ae3abd31d6491d6ed7bf31c1d559806e5511bfea88b81"
  },
  "kernelspec": {
   "display_name": "Python 3.8.10 64-bit",
   "language": "python",
   "name": "python3"
  },
  "language_info": {
   "codemirror_mode": {
    "name": "ipython",
    "version": 3
   },
   "file_extension": ".py",
   "mimetype": "text/x-python",
   "name": "python",
   "nbconvert_exporter": "python",
   "pygments_lexer": "ipython3",
   "version": "3.8.10"
  },
  "orig_nbformat": 4
 },
 "nbformat": 4,
 "nbformat_minor": 2
}
